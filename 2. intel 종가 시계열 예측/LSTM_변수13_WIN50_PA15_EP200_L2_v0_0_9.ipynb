{
 "cells": [
  {
   "cell_type": "code",
   "execution_count": 1,
   "id": "92745acb",
   "metadata": {
    "ExecuteTime": {
     "end_time": "2022-03-29T08:00:51.044515Z",
     "start_time": "2022-03-29T08:00:49.314789Z"
    }
   },
   "outputs": [],
   "source": [
    "import pandas as pd\n",
    "from pandas_datareader import data as pdr\n",
    "import yfinance as yf\n",
    "import seaborn as sns\n",
    "import matplotlib.pyplot as plt\n",
    "import numpy as np"
   ]
  },
  {
   "cell_type": "code",
   "execution_count": 2,
   "id": "c2f4f619",
   "metadata": {
    "ExecuteTime": {
     "end_time": "2022-03-29T08:00:54.349075Z",
     "start_time": "2022-03-29T08:00:51.046492Z"
    }
   },
   "outputs": [],
   "source": [
    "from sklearn.preprocessing import MinMaxScaler\n",
    "from sklearn.model_selection import train_test_split\n",
    "import tensorflow as tf\n",
    "from tensorflow import keras\n",
    "from tensorflow.keras import Sequential, layers, regularizers\n",
    "from tensorflow.keras.layers import Dense, Dropout, LSTM, Conv1D, Lambda, BatchNormalization, Bidirectional"
   ]
  },
  {
   "cell_type": "code",
   "execution_count": 3,
   "id": "82ff396d",
   "metadata": {
    "ExecuteTime": {
     "end_time": "2022-03-29T08:01:01.737677Z",
     "start_time": "2022-03-29T08:00:54.349075Z"
    }
   },
   "outputs": [
    {
     "name": "stdout",
     "output_type": "stream",
     "text": [
      "[*********************100%***********************]  1 of 1 completed\n",
      "[*********************100%***********************]  1 of 1 completed\n",
      "[*********************100%***********************]  1 of 1 completed\n",
      "[*********************100%***********************]  1 of 1 completed\n",
      "[*********************100%***********************]  1 of 1 completed\n",
      "[*********************100%***********************]  1 of 1 completed\n",
      "[*********************100%***********************]  1 of 1 completed\n",
      "[*********************100%***********************]  1 of 1 completed\n",
      "[*********************100%***********************]  1 of 1 completed\n",
      "[*********************100%***********************]  1 of 1 completed\n"
     ]
    }
   ],
   "source": [
    "yf.pdr_override()\n",
    "pd.options.display.float_format = '{:.4f}'.format\n",
    "pd.set_option('display.max_columns', None)\n",
    "def get_adj_price_data(x):\n",
    "    df_price = pd.DataFrame(columns=x)\n",
    "    for ticker in x:\n",
    "        df_price[ticker] = pdr.get_data_yahoo(ticker, start = start_date, end = end_date)['Close']\n",
    "    return df_price.dropna(axis=0)\n",
    "\n",
    "# 변수 수정해주세요\n",
    "#stock_list = ['ES=F','YM=F','NQ=F','^RUT' ,'CL=F', 'GC=F', 'SI=F', 'EURUSD=X','^FVX', '^TNX','AMD','HG=F','PL=F','PA=F','AAPL','nvda']\n",
    "stock_list = ['ES=F', '^RUT', 'CL=F', 'GC=F', '^FVX', 'AMD', 'HG=F', 'PA=F', 'nvda']\n",
    "start_date = \"2017-01-01\"\n",
    "end_date = \"2022-01-01\"\n",
    "\n",
    "\n",
    "df_stock_list = get_adj_price_data(stock_list)\n",
    "\n",
    "df_intel = pdr.get_data_yahoo(\"INTC\", start = start_date, end = end_date) #인텔\n",
    "df_intel.drop(['Adj Close'], axis=1, inplace=True)"
   ]
  },
  {
   "cell_type": "code",
   "execution_count": 4,
   "id": "60b8b470",
   "metadata": {
    "ExecuteTime": {
     "end_time": "2022-03-29T08:01:01.752843Z",
     "start_time": "2022-03-29T08:01:01.738567Z"
    }
   },
   "outputs": [],
   "source": [
    "#컬럼 이름변경\n",
    "#df_stock_list.columns = ['sp500','dow','nsd','russell', 'oil', 'gold', 'silver', 'usd','fyear', 'tyear', 'amd', 'copper', 'plati', 'palla', 'appl', 'nvda']\n",
    "df_stock_list.columns = ['ES=F', '^RUT', 'CL=F', 'GC=F', '^FVX', 'AMD', 'HG=F', 'PA=F', 'nvda']"
   ]
  },
  {
   "cell_type": "code",
   "execution_count": 5,
   "id": "a5750162",
   "metadata": {
    "ExecuteTime": {
     "end_time": "2022-03-29T08:01:01.783974Z",
     "start_time": "2022-03-29T08:01:01.755834Z"
    },
    "scrolled": true
   },
   "outputs": [
    {
     "data": {
      "text/html": [
       "<div>\n",
       "<style scoped>\n",
       "    .dataframe tbody tr th:only-of-type {\n",
       "        vertical-align: middle;\n",
       "    }\n",
       "\n",
       "    .dataframe tbody tr th {\n",
       "        vertical-align: top;\n",
       "    }\n",
       "\n",
       "    .dataframe thead th {\n",
       "        text-align: right;\n",
       "    }\n",
       "</style>\n",
       "<table border=\"1\" class=\"dataframe\">\n",
       "  <thead>\n",
       "    <tr style=\"text-align: right;\">\n",
       "      <th></th>\n",
       "      <th>ES=F</th>\n",
       "      <th>^RUT</th>\n",
       "      <th>CL=F</th>\n",
       "      <th>GC=F</th>\n",
       "      <th>^FVX</th>\n",
       "      <th>AMD</th>\n",
       "      <th>HG=F</th>\n",
       "      <th>PA=F</th>\n",
       "      <th>nvda</th>\n",
       "      <th>Open</th>\n",
       "      <th>High</th>\n",
       "      <th>Low</th>\n",
       "      <th>Close</th>\n",
       "      <th>Volume</th>\n",
       "    </tr>\n",
       "    <tr>\n",
       "      <th>Date</th>\n",
       "      <th></th>\n",
       "      <th></th>\n",
       "      <th></th>\n",
       "      <th></th>\n",
       "      <th></th>\n",
       "      <th></th>\n",
       "      <th></th>\n",
       "      <th></th>\n",
       "      <th></th>\n",
       "      <th></th>\n",
       "      <th></th>\n",
       "      <th></th>\n",
       "      <th></th>\n",
       "      <th></th>\n",
       "    </tr>\n",
       "  </thead>\n",
       "  <tbody>\n",
       "    <tr>\n",
       "      <th>2017-01-03</th>\n",
       "      <td>2252.5000</td>\n",
       "      <td>1365.4900</td>\n",
       "      <td>52.3300</td>\n",
       "      <td>1160.4000</td>\n",
       "      <td>1.9440</td>\n",
       "      <td>11.4300</td>\n",
       "      <td>2.4810</td>\n",
       "      <td>709.3000</td>\n",
       "      <td>25.5025</td>\n",
       "      <td>36.6100</td>\n",
       "      <td>36.9300</td>\n",
       "      <td>36.2700</td>\n",
       "      <td>36.6000</td>\n",
       "      <td>20196500</td>\n",
       "    </tr>\n",
       "    <tr>\n",
       "      <th>2017-01-04</th>\n",
       "      <td>2264.2500</td>\n",
       "      <td>1387.9500</td>\n",
       "      <td>53.2600</td>\n",
       "      <td>1163.8000</td>\n",
       "      <td>1.9470</td>\n",
       "      <td>11.4300</td>\n",
       "      <td>2.5480</td>\n",
       "      <td>738.2000</td>\n",
       "      <td>26.0975</td>\n",
       "      <td>36.7100</td>\n",
       "      <td>36.7700</td>\n",
       "      <td>36.3400</td>\n",
       "      <td>36.4100</td>\n",
       "      <td>15915700</td>\n",
       "    </tr>\n",
       "    <tr>\n",
       "      <th>2017-01-05</th>\n",
       "      <td>2264.2500</td>\n",
       "      <td>1371.9399</td>\n",
       "      <td>53.7600</td>\n",
       "      <td>1179.7000</td>\n",
       "      <td>1.8630</td>\n",
       "      <td>11.2400</td>\n",
       "      <td>2.5295</td>\n",
       "      <td>737.6000</td>\n",
       "      <td>25.4350</td>\n",
       "      <td>36.4500</td>\n",
       "      <td>36.7200</td>\n",
       "      <td>36.3100</td>\n",
       "      <td>36.3500</td>\n",
       "      <td>13986000</td>\n",
       "    </tr>\n",
       "    <tr>\n",
       "      <th>2017-01-06</th>\n",
       "      <td>2271.5000</td>\n",
       "      <td>1367.2800</td>\n",
       "      <td>53.9900</td>\n",
       "      <td>1171.9000</td>\n",
       "      <td>1.9220</td>\n",
       "      <td>11.3200</td>\n",
       "      <td>2.5380</td>\n",
       "      <td>757.7500</td>\n",
       "      <td>25.7750</td>\n",
       "      <td>36.5900</td>\n",
       "      <td>36.6800</td>\n",
       "      <td>36.1900</td>\n",
       "      <td>36.4800</td>\n",
       "      <td>15114000</td>\n",
       "    </tr>\n",
       "    <tr>\n",
       "      <th>2017-01-09</th>\n",
       "      <td>2265.0000</td>\n",
       "      <td>1357.4900</td>\n",
       "      <td>51.9600</td>\n",
       "      <td>1183.5000</td>\n",
       "      <td>1.8810</td>\n",
       "      <td>11.4900</td>\n",
       "      <td>2.5300</td>\n",
       "      <td>756.5500</td>\n",
       "      <td>26.8200</td>\n",
       "      <td>36.4800</td>\n",
       "      <td>36.8900</td>\n",
       "      <td>36.4800</td>\n",
       "      <td>36.6100</td>\n",
       "      <td>19461400</td>\n",
       "    </tr>\n",
       "  </tbody>\n",
       "</table>\n",
       "</div>"
      ],
      "text/plain": [
       "                ES=F      ^RUT    CL=F      GC=F   ^FVX     AMD   HG=F  \\\n",
       "Date                                                                     \n",
       "2017-01-03 2252.5000 1365.4900 52.3300 1160.4000 1.9440 11.4300 2.4810   \n",
       "2017-01-04 2264.2500 1387.9500 53.2600 1163.8000 1.9470 11.4300 2.5480   \n",
       "2017-01-05 2264.2500 1371.9399 53.7600 1179.7000 1.8630 11.2400 2.5295   \n",
       "2017-01-06 2271.5000 1367.2800 53.9900 1171.9000 1.9220 11.3200 2.5380   \n",
       "2017-01-09 2265.0000 1357.4900 51.9600 1183.5000 1.8810 11.4900 2.5300   \n",
       "\n",
       "               PA=F    nvda    Open    High     Low   Close    Volume  \n",
       "Date                                                                   \n",
       "2017-01-03 709.3000 25.5025 36.6100 36.9300 36.2700 36.6000  20196500  \n",
       "2017-01-04 738.2000 26.0975 36.7100 36.7700 36.3400 36.4100  15915700  \n",
       "2017-01-05 737.6000 25.4350 36.4500 36.7200 36.3100 36.3500  13986000  \n",
       "2017-01-06 757.7500 25.7750 36.5900 36.6800 36.1900 36.4800  15114000  \n",
       "2017-01-09 756.5500 26.8200 36.4800 36.8900 36.4800 36.6100  19461400  "
      ]
     },
     "execution_count": 5,
     "metadata": {},
     "output_type": "execute_result"
    }
   ],
   "source": [
    "# df_intel과 df_stock_list 를 조인\n",
    "data = pd.merge(df_stock_list, df_intel, left_on='Date', right_on='Date', how='inner')\n",
    "#데이터 확인\n",
    "data.head()"
   ]
  },
  {
   "cell_type": "code",
   "execution_count": 6,
   "id": "09c868a9",
   "metadata": {
    "ExecuteTime": {
     "end_time": "2022-03-29T08:01:01.879719Z",
     "start_time": "2022-03-29T08:01:01.801896Z"
    },
    "scrolled": true
   },
   "outputs": [
    {
     "name": "stdout",
     "output_type": "stream",
     "text": [
      "                ES=F      ^RUT    CL=F      GC=F   ^FVX      AMD   HG=F  \\\n",
      "Date                                                                      \n",
      "2017-01-03 2252.5000 1365.4900 52.3300 1160.4000 1.9440  11.4300 2.4810   \n",
      "2017-01-04 2264.2500 1387.9500 53.2600 1163.8000 1.9470  11.4300 2.5480   \n",
      "2017-01-05 2264.2500 1371.9399 53.7600 1179.7000 1.8630  11.2400 2.5295   \n",
      "2017-01-06 2271.5000 1367.2800 53.9900 1171.9000 1.9220  11.3200 2.5380   \n",
      "2017-01-09 2265.0000 1357.4900 51.9600 1183.5000 1.8810  11.4900 2.5300   \n",
      "...              ...       ...     ...       ...    ...      ...    ...   \n",
      "2021-12-27 4782.2500 2261.4600 75.5700 1808.1000 1.2520 154.3600 4.4650   \n",
      "2021-12-28 4778.5000 2246.5100 75.9800 1810.2000 1.2450 153.1500 4.4200   \n",
      "2021-12-29 4784.5000 2249.2400 76.5600 1805.1000 1.2940 148.2600 4.4020   \n",
      "2021-12-30 4772.2500 2248.7900 76.9900 1812.7000 1.2740 145.1500 4.3845   \n",
      "2021-12-31 4758.5000 2245.3101 75.2100 1827.5000 1.2630 143.9000 4.4550   \n",
      "\n",
      "                PA=F     nvda    Open    High     Low   Close    Volume  \n",
      "Date                                                                     \n",
      "2017-01-03  709.3000  25.5025 36.6100 36.9300 36.2700 36.6000  20196500  \n",
      "2017-01-04  738.2000  26.0975 36.7100 36.7700 36.3400 36.4100  15915700  \n",
      "2017-01-05  737.6000  25.4350 36.4500 36.7200 36.3100 36.3500  13986000  \n",
      "2017-01-06  757.7500  25.7750 36.5900 36.6800 36.1900 36.4800  15114000  \n",
      "2017-01-09  756.5500  26.8200 36.4800 36.8900 36.4800 36.6100  19461400  \n",
      "...              ...      ...     ...     ...     ...     ...       ...  \n",
      "2021-12-27 1944.3000 309.4500 51.3500 52.0600 51.3000 51.9400  20985400  \n",
      "2021-12-28 1998.4000 303.2200 51.9300 52.1200 51.6300 51.7600  19290400  \n",
      "2021-12-29 1984.8000 300.0100 51.8100 52.1400 51.6600 51.8300  14174800  \n",
      "2021-12-30 1979.2000 295.8600 51.9200 52.1400 51.6500 51.7400  18359400  \n",
      "2021-12-31 1908.1000 294.1100 51.8900 52.1600 51.4600 51.5000  16319000  \n",
      "\n",
      "[1243 rows x 14 columns]\n",
      "<class 'pandas.core.frame.DataFrame'>\n"
     ]
    },
    {
     "data": {
      "text/html": [
       "<div>\n",
       "<style scoped>\n",
       "    .dataframe tbody tr th:only-of-type {\n",
       "        vertical-align: middle;\n",
       "    }\n",
       "\n",
       "    .dataframe tbody tr th {\n",
       "        vertical-align: top;\n",
       "    }\n",
       "\n",
       "    .dataframe thead th {\n",
       "        text-align: right;\n",
       "    }\n",
       "</style>\n",
       "<table border=\"1\" class=\"dataframe\">\n",
       "  <thead>\n",
       "    <tr style=\"text-align: right;\">\n",
       "      <th></th>\n",
       "      <th>ES=F</th>\n",
       "      <th>^RUT</th>\n",
       "      <th>CL=F</th>\n",
       "      <th>GC=F</th>\n",
       "      <th>^FVX</th>\n",
       "      <th>AMD</th>\n",
       "      <th>HG=F</th>\n",
       "      <th>PA=F</th>\n",
       "      <th>nvda</th>\n",
       "      <th>Open</th>\n",
       "      <th>High</th>\n",
       "      <th>Low</th>\n",
       "      <th>Close</th>\n",
       "      <th>Volume</th>\n",
       "    </tr>\n",
       "  </thead>\n",
       "  <tbody>\n",
       "    <tr>\n",
       "      <th>count</th>\n",
       "      <td>1243.0000</td>\n",
       "      <td>1243.0000</td>\n",
       "      <td>1243.0000</td>\n",
       "      <td>1243.0000</td>\n",
       "      <td>1243.0000</td>\n",
       "      <td>1243.0000</td>\n",
       "      <td>1243.0000</td>\n",
       "      <td>1243.0000</td>\n",
       "      <td>1243.0000</td>\n",
       "      <td>1243.0000</td>\n",
       "      <td>1243.0000</td>\n",
       "      <td>1243.0000</td>\n",
       "      <td>1243.0000</td>\n",
       "      <td>1243.0000</td>\n",
       "    </tr>\n",
       "    <tr>\n",
       "      <th>mean</th>\n",
       "      <td>3113.2713</td>\n",
       "      <td>1661.1971</td>\n",
       "      <td>55.9512</td>\n",
       "      <td>1497.0225</td>\n",
       "      <td>1.5994</td>\n",
       "      <td>45.1512</td>\n",
       "      <td>3.0931</td>\n",
       "      <td>1593.8864</td>\n",
       "      <td>86.4065</td>\n",
       "      <td>49.7070</td>\n",
       "      <td>50.2756</td>\n",
       "      <td>49.1538</td>\n",
       "      <td>49.7192</td>\n",
       "      <td>27077939.2599</td>\n",
       "    </tr>\n",
       "    <tr>\n",
       "      <th>std</th>\n",
       "      <td>661.1392</td>\n",
       "      <td>314.7819</td>\n",
       "      <td>12.7108</td>\n",
       "      <td>253.6144</td>\n",
       "      <td>0.8557</td>\n",
       "      <td>36.2522</td>\n",
       "      <td>0.6268</td>\n",
       "      <td>635.9681</td>\n",
       "      <td>65.8590</td>\n",
       "      <td>7.9409</td>\n",
       "      <td>8.0840</td>\n",
       "      <td>7.7941</td>\n",
       "      <td>7.9413</td>\n",
       "      <td>13807185.2766</td>\n",
       "    </tr>\n",
       "    <tr>\n",
       "      <th>min</th>\n",
       "      <td>2220.5000</td>\n",
       "      <td>991.1600</td>\n",
       "      <td>-37.6300</td>\n",
       "      <td>1160.4000</td>\n",
       "      <td>0.1950</td>\n",
       "      <td>9.5300</td>\n",
       "      <td>2.1195</td>\n",
       "      <td>709.3000</td>\n",
       "      <td>23.8725</td>\n",
       "      <td>33.2500</td>\n",
       "      <td>33.7400</td>\n",
       "      <td>33.2300</td>\n",
       "      <td>33.4600</td>\n",
       "      <td>6313200.0000</td>\n",
       "    </tr>\n",
       "    <tr>\n",
       "      <th>25%</th>\n",
       "      <td>2652.3750</td>\n",
       "      <td>1467.4550</td>\n",
       "      <td>48.8000</td>\n",
       "      <td>1275.3500</td>\n",
       "      <td>0.8020</td>\n",
       "      <td>13.8500</td>\n",
       "      <td>2.6600</td>\n",
       "      <td>985.4750</td>\n",
       "      <td>42.1325</td>\n",
       "      <td>45.7250</td>\n",
       "      <td>46.1950</td>\n",
       "      <td>45.1800</td>\n",
       "      <td>45.6100</td>\n",
       "      <td>18773300.0000</td>\n",
       "    </tr>\n",
       "    <tr>\n",
       "      <th>50%</th>\n",
       "      <td>2889.7500</td>\n",
       "      <td>1557.3300</td>\n",
       "      <td>56.3500</td>\n",
       "      <td>1404.6000</td>\n",
       "      <td>1.7470</td>\n",
       "      <td>30.2300</td>\n",
       "      <td>2.8870</td>\n",
       "      <td>1506.6000</td>\n",
       "      <td>59.7800</td>\n",
       "      <td>50.0000</td>\n",
       "      <td>50.8100</td>\n",
       "      <td>49.4900</td>\n",
       "      <td>50.1000</td>\n",
       "      <td>23593000.0000</td>\n",
       "    </tr>\n",
       "    <tr>\n",
       "      <th>75%</th>\n",
       "      <td>3388.3750</td>\n",
       "      <td>1696.3199</td>\n",
       "      <td>65.0650</td>\n",
       "      <td>1770.6000</td>\n",
       "      <td>2.3145</td>\n",
       "      <td>78.0600</td>\n",
       "      <td>3.1888</td>\n",
       "      <td>2176.6500</td>\n",
       "      <td>126.6325</td>\n",
       "      <td>54.9250</td>\n",
       "      <td>55.6650</td>\n",
       "      <td>54.3900</td>\n",
       "      <td>55.1650</td>\n",
       "      <td>31109200.0000</td>\n",
       "    </tr>\n",
       "    <tr>\n",
       "      <th>max</th>\n",
       "      <td>4784.5000</td>\n",
       "      <td>2442.7400</td>\n",
       "      <td>84.6500</td>\n",
       "      <td>2051.5000</td>\n",
       "      <td>3.0900</td>\n",
       "      <td>161.9100</td>\n",
       "      <td>4.7785</td>\n",
       "      <td>2985.3999</td>\n",
       "      <td>333.7600</td>\n",
       "      <td>68.2000</td>\n",
       "      <td>69.2900</td>\n",
       "      <td>67.3100</td>\n",
       "      <td>68.4700</td>\n",
       "      <td>182269900.0000</td>\n",
       "    </tr>\n",
       "  </tbody>\n",
       "</table>\n",
       "</div>"
      ],
      "text/plain": [
       "           ES=F      ^RUT      CL=F      GC=F      ^FVX       AMD      HG=F  \\\n",
       "count 1243.0000 1243.0000 1243.0000 1243.0000 1243.0000 1243.0000 1243.0000   \n",
       "mean  3113.2713 1661.1971   55.9512 1497.0225    1.5994   45.1512    3.0931   \n",
       "std    661.1392  314.7819   12.7108  253.6144    0.8557   36.2522    0.6268   \n",
       "min   2220.5000  991.1600  -37.6300 1160.4000    0.1950    9.5300    2.1195   \n",
       "25%   2652.3750 1467.4550   48.8000 1275.3500    0.8020   13.8500    2.6600   \n",
       "50%   2889.7500 1557.3300   56.3500 1404.6000    1.7470   30.2300    2.8870   \n",
       "75%   3388.3750 1696.3199   65.0650 1770.6000    2.3145   78.0600    3.1888   \n",
       "max   4784.5000 2442.7400   84.6500 2051.5000    3.0900  161.9100    4.7785   \n",
       "\n",
       "           PA=F      nvda      Open      High       Low     Close  \\\n",
       "count 1243.0000 1243.0000 1243.0000 1243.0000 1243.0000 1243.0000   \n",
       "mean  1593.8864   86.4065   49.7070   50.2756   49.1538   49.7192   \n",
       "std    635.9681   65.8590    7.9409    8.0840    7.7941    7.9413   \n",
       "min    709.3000   23.8725   33.2500   33.7400   33.2300   33.4600   \n",
       "25%    985.4750   42.1325   45.7250   46.1950   45.1800   45.6100   \n",
       "50%   1506.6000   59.7800   50.0000   50.8100   49.4900   50.1000   \n",
       "75%   2176.6500  126.6325   54.9250   55.6650   54.3900   55.1650   \n",
       "max   2985.3999  333.7600   68.2000   69.2900   67.3100   68.4700   \n",
       "\n",
       "              Volume  \n",
       "count      1243.0000  \n",
       "mean   27077939.2599  \n",
       "std    13807185.2766  \n",
       "min     6313200.0000  \n",
       "25%    18773300.0000  \n",
       "50%    23593000.0000  \n",
       "75%    31109200.0000  \n",
       "max   182269900.0000  "
      ]
     },
     "execution_count": 6,
     "metadata": {},
     "output_type": "execute_result"
    }
   ],
   "source": [
    "print(data)\n",
    "print(type(data))\n",
    "data.describe()"
   ]
  },
  {
   "cell_type": "code",
   "execution_count": 7,
   "id": "01b06dd4",
   "metadata": {
    "ExecuteTime": {
     "end_time": "2022-03-29T08:01:01.910699Z",
     "start_time": "2022-03-29T08:01:01.881678Z"
    }
   },
   "outputs": [
    {
     "name": "stdout",
     "output_type": "stream",
     "text": [
      "<class 'pandas.core.frame.DataFrame'>\n",
      "DatetimeIndex: 1243 entries, 2017-01-03 to 2021-12-31\n",
      "Data columns (total 14 columns):\n",
      " #   Column  Non-Null Count  Dtype  \n",
      "---  ------  --------------  -----  \n",
      " 0   ES=F    1243 non-null   float64\n",
      " 1   ^RUT    1243 non-null   float64\n",
      " 2   CL=F    1243 non-null   float64\n",
      " 3   GC=F    1243 non-null   float64\n",
      " 4   ^FVX    1243 non-null   float64\n",
      " 5   AMD     1243 non-null   float64\n",
      " 6   HG=F    1243 non-null   float64\n",
      " 7   PA=F    1243 non-null   float64\n",
      " 8   nvda    1243 non-null   float64\n",
      " 9   Open    1243 non-null   float64\n",
      " 10  High    1243 non-null   float64\n",
      " 11  Low     1243 non-null   float64\n",
      " 12  Close   1243 non-null   float64\n",
      " 13  Volume  1243 non-null   int64  \n",
      "dtypes: float64(13), int64(1)\n",
      "memory usage: 145.7 KB\n"
     ]
    }
   ],
   "source": [
    "data.info()"
   ]
  },
  {
   "cell_type": "code",
   "execution_count": 8,
   "id": "d93d214e",
   "metadata": {
    "ExecuteTime": {
     "end_time": "2022-03-29T08:01:01.926544Z",
     "start_time": "2022-03-29T08:01:01.912464Z"
    }
   },
   "outputs": [
    {
     "data": {
      "text/plain": [
       "ES=F      0\n",
       "^RUT      0\n",
       "CL=F      0\n",
       "GC=F      0\n",
       "^FVX      0\n",
       "AMD       0\n",
       "HG=F      0\n",
       "PA=F      0\n",
       "nvda      0\n",
       "Open      0\n",
       "High      0\n",
       "Low       0\n",
       "Close     0\n",
       "Volume    0\n",
       "dtype: int64"
      ]
     },
     "execution_count": 8,
     "metadata": {},
     "output_type": "execute_result"
    }
   ],
   "source": [
    "data.isnull().sum()"
   ]
  },
  {
   "cell_type": "code",
   "execution_count": 9,
   "id": "99616e2c",
   "metadata": {
    "ExecuteTime": {
     "end_time": "2022-03-29T08:01:01.957565Z",
     "start_time": "2022-03-29T08:01:01.931390Z"
    }
   },
   "outputs": [
    {
     "data": {
      "text/html": [
       "<div>\n",
       "<style scoped>\n",
       "    .dataframe tbody tr th:only-of-type {\n",
       "        vertical-align: middle;\n",
       "    }\n",
       "\n",
       "    .dataframe tbody tr th {\n",
       "        vertical-align: top;\n",
       "    }\n",
       "\n",
       "    .dataframe thead th {\n",
       "        text-align: right;\n",
       "    }\n",
       "</style>\n",
       "<table border=\"1\" class=\"dataframe\">\n",
       "  <thead>\n",
       "    <tr style=\"text-align: right;\">\n",
       "      <th></th>\n",
       "      <th>Close</th>\n",
       "    </tr>\n",
       "    <tr>\n",
       "      <th>Date</th>\n",
       "      <th></th>\n",
       "    </tr>\n",
       "  </thead>\n",
       "  <tbody>\n",
       "    <tr>\n",
       "      <th>2017-01-03</th>\n",
       "      <td>36.6000</td>\n",
       "    </tr>\n",
       "    <tr>\n",
       "      <th>2017-01-04</th>\n",
       "      <td>36.4100</td>\n",
       "    </tr>\n",
       "    <tr>\n",
       "      <th>2017-01-05</th>\n",
       "      <td>36.3500</td>\n",
       "    </tr>\n",
       "    <tr>\n",
       "      <th>2017-01-06</th>\n",
       "      <td>36.4800</td>\n",
       "    </tr>\n",
       "    <tr>\n",
       "      <th>2017-01-09</th>\n",
       "      <td>36.6100</td>\n",
       "    </tr>\n",
       "    <tr>\n",
       "      <th>...</th>\n",
       "      <td>...</td>\n",
       "    </tr>\n",
       "    <tr>\n",
       "      <th>2021-12-27</th>\n",
       "      <td>51.9400</td>\n",
       "    </tr>\n",
       "    <tr>\n",
       "      <th>2021-12-28</th>\n",
       "      <td>51.7600</td>\n",
       "    </tr>\n",
       "    <tr>\n",
       "      <th>2021-12-29</th>\n",
       "      <td>51.8300</td>\n",
       "    </tr>\n",
       "    <tr>\n",
       "      <th>2021-12-30</th>\n",
       "      <td>51.7400</td>\n",
       "    </tr>\n",
       "    <tr>\n",
       "      <th>2021-12-31</th>\n",
       "      <td>51.5000</td>\n",
       "    </tr>\n",
       "  </tbody>\n",
       "</table>\n",
       "<p>1243 rows × 1 columns</p>\n",
       "</div>"
      ],
      "text/plain": [
       "             Close\n",
       "Date              \n",
       "2017-01-03 36.6000\n",
       "2017-01-04 36.4100\n",
       "2017-01-05 36.3500\n",
       "2017-01-06 36.4800\n",
       "2017-01-09 36.6100\n",
       "...            ...\n",
       "2021-12-27 51.9400\n",
       "2021-12-28 51.7600\n",
       "2021-12-29 51.8300\n",
       "2021-12-30 51.7400\n",
       "2021-12-31 51.5000\n",
       "\n",
       "[1243 rows x 1 columns]"
      ]
     },
     "execution_count": 9,
     "metadata": {},
     "output_type": "execute_result"
    }
   ],
   "source": [
    "X = data.drop(['Close'], axis=1)\n",
    "y = data['Close']\n",
    "y = pd.DataFrame(y)\n",
    "\n",
    "y"
   ]
  },
  {
   "cell_type": "code",
   "execution_count": 10,
   "id": "6cc892c4",
   "metadata": {
    "ExecuteTime": {
     "end_time": "2022-03-29T08:01:20.312244Z",
     "start_time": "2022-03-29T08:01:20.299272Z"
    }
   },
   "outputs": [
    {
     "name": "stdout",
     "output_type": "stream",
     "text": [
      "(1001, 13)\n",
      "(242, 13)\n"
     ]
    }
   ],
   "source": [
    "X_train = X.loc[X.index < '2021-01-01',:]\n",
    "X_test = X.loc[X.index >= '2021-01-01',:]\n",
    "\n",
    "print(X_train.shape)\n",
    "print(X_test.shape)"
   ]
  },
  {
   "cell_type": "code",
   "execution_count": 11,
   "id": "c3faca5f",
   "metadata": {
    "ExecuteTime": {
     "end_time": "2022-03-29T08:01:20.891722Z",
     "start_time": "2022-03-29T08:01:20.870761Z"
    }
   },
   "outputs": [
    {
     "name": "stdout",
     "output_type": "stream",
     "text": [
      "(1001, 1)\n",
      "(242, 1)\n"
     ]
    }
   ],
   "source": [
    "y_train = y.loc[y.index < '2021-01-01',:]\n",
    "y_test = y.loc[y.index >= '2021-01-01',:]\n",
    "\n",
    "print(y_train.shape)\n",
    "print(y_test.shape)"
   ]
  },
  {
   "cell_type": "code",
   "execution_count": 12,
   "id": "9f43e582",
   "metadata": {
    "ExecuteTime": {
     "end_time": "2022-03-29T08:01:22.785657Z",
     "start_time": "2022-03-29T08:01:22.760631Z"
    }
   },
   "outputs": [
    {
     "name": "stdout",
     "output_type": "stream",
     "text": [
      "[[0.02093898 0.36845681 0.78884601 ... 0.08973273 0.08920191 0.0789018 ]\n",
      " [0.02862752 0.39056438 0.79700101 ... 0.08523204 0.09125589 0.05457309]\n",
      " [0.02862752 0.37480557 0.80138544 ... 0.08382559 0.09037565 0.04360618]\n",
      " ...\n",
      " [0.98118763 0.95300905 0.75087686 ... 0.47623057 0.38908459 0.44453096]\n",
      " [0.98396859 0.97331537 0.75438442 ... 0.43459908 0.44982402 0.17659004]\n",
      " [1.         0.96826585 0.75543667 ... 0.46272848 0.45451886 0.12652886]]\n",
      "<class 'numpy.ndarray'>\n",
      "(1001, 13)\n",
      "----------------------\n",
      "[[0.96302961 0.93977012 0.74754469 ... 0.49648377 0.47447192 0.2261312 ]\n",
      " [0.98004253 0.97244917 0.76780075 ... 0.48073138 0.47241794 0.10544299]\n",
      " [0.99460167 1.05002259 0.77393896 ... 0.51786217 0.49794607 0.17331764]\n",
      " ...\n",
      " [1.67773597 1.23834086 1.00131527 ... 0.51758082 0.54078643 0.04467917]\n",
      " [1.66972027 1.23789797 1.00508588 ... 0.51758082 0.54049305 0.06846116]\n",
      " [1.66072305 1.23447259 0.98947734 ... 0.51814342 0.53491786 0.05686513]]\n",
      "<class 'numpy.ndarray'>\n",
      "(242, 13)\n"
     ]
    }
   ],
   "source": [
    "from sklearn.preprocessing import MinMaxScaler\n",
    "\n",
    "scaler = MinMaxScaler(feature_range=(0,1))\n",
    "\n",
    "# 스케일 후 columns\n",
    "X_train = scaler.fit_transform(X_train)\n",
    "X_test = scaler.transform(X_test)\n",
    "\n",
    "\n",
    "print(X_train)\n",
    "print(type(X_train))\n",
    "print(X_train.shape)\n",
    "print('----------------------')\n",
    "print(X_test)\n",
    "print(type(X_test))\n",
    "print(X_test.shape)"
   ]
  },
  {
   "cell_type": "code",
   "execution_count": 13,
   "id": "bac94c9f",
   "metadata": {
    "ExecuteTime": {
     "end_time": "2022-03-29T08:01:25.302526Z",
     "start_time": "2022-03-29T08:01:25.294574Z"
    }
   },
   "outputs": [],
   "source": [
    "WINDOW_SIZE=50\n",
    "BATCH_SIZE=32"
   ]
  },
  {
   "cell_type": "code",
   "execution_count": 14,
   "id": "6bace7d7",
   "metadata": {
    "ExecuteTime": {
     "end_time": "2022-03-29T08:01:25.744915Z",
     "start_time": "2022-03-29T08:01:25.731975Z"
    }
   },
   "outputs": [],
   "source": [
    "def windowed_dataset(x,y, window_size, batch_size, shuffle):\n",
    "    # x 값\n",
    "    ds_x = tf.data.Dataset.from_tensor_slices(x)\n",
    "    ds_x = ds_x.window(WINDOW_SIZE, stride=1, shift=1, drop_remainder=True)\n",
    "    ds_x = ds_x.flat_map(lambda x: x.batch(WINDOW_SIZE))\n",
    "    # y 값\n",
    "    ds_y = tf.data.Dataset.from_tensor_slices(y[WINDOW_SIZE:])\n",
    "    ds = tf.data.Dataset.zip((ds_x, ds_y))\n",
    "    if shuffle:\n",
    "        ds = ds.shuffle(1000)\n",
    "    return ds.batch(batch_size).prefetch(1)"
   ]
  },
  {
   "cell_type": "code",
   "execution_count": 15,
   "id": "fb659f91",
   "metadata": {
    "ExecuteTime": {
     "end_time": "2022-03-29T08:01:29.142964Z",
     "start_time": "2022-03-29T08:01:27.402801Z"
    }
   },
   "outputs": [],
   "source": [
    "train_data = windowed_dataset(X_train, y_train, WINDOW_SIZE, BATCH_SIZE, True)\n",
    "test_data = windowed_dataset(X_test, y_test, WINDOW_SIZE, BATCH_SIZE, False)"
   ]
  },
  {
   "cell_type": "markdown",
   "id": "941481c5",
   "metadata": {},
   "source": [
    "--------------양방향 LSTM --------------------"
   ]
  },
  {
   "cell_type": "code",
   "execution_count": 16,
   "id": "6f63148f",
   "metadata": {
    "ExecuteTime": {
     "end_time": "2022-03-29T08:01:31.119384Z",
     "start_time": "2022-03-29T08:01:30.227472Z"
    },
    "scrolled": true
   },
   "outputs": [
    {
     "name": "stdout",
     "output_type": "stream",
     "text": [
      "Model: \"sequential\"\n",
      "_________________________________________________________________\n",
      " Layer (type)                Output Shape              Param #   \n",
      "=================================================================\n",
      " conv1d (Conv1D)             (None, 50, 64)            10880     \n",
      "                                                                 \n",
      " bidirectional (Bidirectiona  (None, 50, 806)          1508832   \n",
      " l)                                                              \n",
      "                                                                 \n",
      " lstm_1 (LSTM)               (None, 256)               1088512   \n",
      "                                                                 \n",
      " dropout (Dropout)           (None, 256)               0         \n",
      "                                                                 \n",
      " dense (Dense)               (None, 32)                8224      \n",
      "                                                                 \n",
      " dense_1 (Dense)             (None, 8)                 264       \n",
      "                                                                 \n",
      " dense_2 (Dense)             (None, 1)                 9         \n",
      "                                                                 \n",
      "=================================================================\n",
      "Total params: 2,616,721\n",
      "Trainable params: 2,616,721\n",
      "Non-trainable params: 0\n",
      "_________________________________________________________________\n"
     ]
    }
   ],
   "source": [
    "# LSTM\n",
    "\n",
    "model = Sequential([\n",
    "    Conv1D(filters=64, kernel_size=13,\n",
    "           padding=\"causal\",\n",
    "           activation=\"relu\",\n",
    "           input_shape=[WINDOW_SIZE, 13])])\n",
    "\n",
    "model.add(Bidirectional(LSTM(403, return_sequences=True,kernel_regularizer=regularizers.l2(0.01), \n",
    "                             activation = 'tanh')))\n",
    "model.add(LSTM(256, activation = 'tanh'))\n",
    "model.add(Dropout(rate=0.1))\n",
    "model.add(Dense(32, activation='relu'))\n",
    "model.add(Dense(8, activation='relu'))\n",
    "\n",
    "model.add(Dense(1))\n",
    "\n",
    "\n",
    "model.summary()"
   ]
  },
  {
   "cell_type": "code",
   "execution_count": null,
   "id": "e1058dc7",
   "metadata": {},
   "outputs": [],
   "source": []
  },
  {
   "cell_type": "code",
   "execution_count": 17,
   "id": "f37487f8",
   "metadata": {
    "ExecuteTime": {
     "end_time": "2022-03-29T08:01:03.053296Z",
     "start_time": "2022-03-29T08:01:03.053296Z"
    }
   },
   "outputs": [],
   "source": [
    "#model1.add(Bidirectional(LSTM(128, dropout=0.1)))\n",
    "#model1.add(Bidirectional(LSTM(64, dropout=0.1)))"
   ]
  },
  {
   "cell_type": "code",
   "execution_count": 18,
   "id": "f83f1b06",
   "metadata": {
    "ExecuteTime": {
     "end_time": "2022-03-29T08:01:34.544876Z",
     "start_time": "2022-03-29T08:01:34.516973Z"
    }
   },
   "outputs": [],
   "source": [
    "model.compile(loss = 'mean_squared_error', optimizer = 'adam', metrics=[tf.keras.metrics.RootMeanSquaredError(), 'mae'])"
   ]
  },
  {
   "cell_type": "code",
   "execution_count": 19,
   "id": "b1b409c9",
   "metadata": {
    "ExecuteTime": {
     "end_time": "2022-03-29T08:01:03.056286Z",
     "start_time": "2022-03-29T08:01:03.056286Z"
    },
    "scrolled": true
   },
   "outputs": [
    {
     "name": "stdout",
     "output_type": "stream",
     "text": [
      "Epoch 1/200\n",
      "30/30 [==============================] - 10s 132ms/step - loss: 631.4841 - root_mean_squared_error: 25.0890 - mae: 20.4061\n",
      "Epoch 2/200\n",
      "30/30 [==============================] - 3s 82ms/step - loss: 74.3713 - root_mean_squared_error: 8.5382 - mae: 6.6951\n",
      "Epoch 3/200\n",
      "30/30 [==============================] - 3s 83ms/step - loss: 60.9005 - root_mean_squared_error: 7.7266 - mae: 5.9988\n",
      "Epoch 4/200\n",
      "30/30 [==============================] - 3s 82ms/step - loss: 60.7106 - root_mean_squared_error: 7.7245 - mae: 5.9885\n",
      "Epoch 5/200\n",
      "30/30 [==============================] - 3s 82ms/step - loss: 59.5670 - root_mean_squared_error: 7.6560 - mae: 5.9569\n",
      "Epoch 6/200\n",
      "30/30 [==============================] - 3s 82ms/step - loss: 58.6038 - root_mean_squared_error: 7.5954 - mae: 5.9040\n",
      "Epoch 7/200\n",
      "30/30 [==============================] - 3s 83ms/step - loss: 54.6767 - root_mean_squared_error: 7.3327 - mae: 5.7078\n",
      "Epoch 8/200\n",
      "30/30 [==============================] - 3s 81ms/step - loss: 50.0702 - root_mean_squared_error: 7.0118 - mae: 5.4059\n",
      "Epoch 9/200\n",
      "30/30 [==============================] - 3s 79ms/step - loss: 44.6222 - root_mean_squared_error: 6.6163 - mae: 5.1529\n",
      "Epoch 10/200\n",
      "30/30 [==============================] - 3s 79ms/step - loss: 38.7556 - root_mean_squared_error: 6.1608 - mae: 4.7649\n",
      "Epoch 11/200\n",
      "30/30 [==============================] - 3s 80ms/step - loss: 33.9371 - root_mean_squared_error: 5.7577 - mae: 4.4628\n",
      "Epoch 12/200\n",
      "30/30 [==============================] - 3s 81ms/step - loss: 28.9155 - root_mean_squared_error: 5.3066 - mae: 4.1066\n",
      "Epoch 13/200\n",
      "30/30 [==============================] - 3s 79ms/step - loss: 25.3732 - root_mean_squared_error: 4.9652 - mae: 3.8788\n",
      "Epoch 14/200\n",
      "30/30 [==============================] - 3s 79ms/step - loss: 21.5873 - root_mean_squared_error: 4.5692 - mae: 3.5640\n",
      "Epoch 15/200\n",
      "30/30 [==============================] - 3s 80ms/step - loss: 17.2594 - root_mean_squared_error: 4.0674 - mae: 3.1230\n",
      "Epoch 16/200\n",
      "30/30 [==============================] - 3s 80ms/step - loss: 15.3061 - root_mean_squared_error: 3.8229 - mae: 2.9645\n",
      "Epoch 17/200\n",
      "30/30 [==============================] - 3s 80ms/step - loss: 12.6690 - root_mean_squared_error: 3.4641 - mae: 2.6890\n",
      "Epoch 18/200\n",
      "30/30 [==============================] - 3s 81ms/step - loss: 11.6022 - root_mean_squared_error: 3.3100 - mae: 2.4893\n",
      "Epoch 19/200\n",
      "30/30 [==============================] - 3s 79ms/step - loss: 10.2420 - root_mean_squared_error: 3.0999 - mae: 2.3026\n",
      "Epoch 20/200\n",
      "30/30 [==============================] - 3s 80ms/step - loss: 9.4669 - root_mean_squared_error: 2.9764 - mae: 2.2466\n",
      "Epoch 21/200\n",
      "30/30 [==============================] - 3s 76ms/step - loss: 9.8227 - root_mean_squared_error: 3.0382 - mae: 2.2866\n",
      "Epoch 22/200\n",
      "30/30 [==============================] - 3s 80ms/step - loss: 8.7911 - root_mean_squared_error: 2.8645 - mae: 2.1524\n",
      "Epoch 23/200\n",
      "30/30 [==============================] - 3s 80ms/step - loss: 7.8111 - root_mean_squared_error: 2.6905 - mae: 2.0312\n",
      "Epoch 24/200\n",
      "30/30 [==============================] - 3s 76ms/step - loss: 9.4309 - root_mean_squared_error: 2.9792 - mae: 2.3090\n",
      "Epoch 25/200\n",
      "30/30 [==============================] - 3s 76ms/step - loss: 7.8239 - root_mean_squared_error: 2.6981 - mae: 2.1018\n",
      "Epoch 26/200\n",
      "30/30 [==============================] - 3s 76ms/step - loss: 8.0080 - root_mean_squared_error: 2.7334 - mae: 2.0695\n",
      "Epoch 27/200\n",
      "30/30 [==============================] - 3s 80ms/step - loss: 6.7136 - root_mean_squared_error: 2.4881 - mae: 1.8943\n",
      "Epoch 28/200\n",
      "30/30 [==============================] - 3s 76ms/step - loss: 7.6155 - root_mean_squared_error: 2.6666 - mae: 2.0434\n",
      "Epoch 29/200\n",
      "30/30 [==============================] - 3s 79ms/step - loss: 6.6344 - root_mean_squared_error: 2.4780 - mae: 1.9052\n",
      "Epoch 30/200\n",
      "30/30 [==============================] - 3s 76ms/step - loss: 6.8009 - root_mean_squared_error: 2.5135 - mae: 1.9211\n",
      "Epoch 31/200\n",
      "30/30 [==============================] - 3s 80ms/step - loss: 6.4053 - root_mean_squared_error: 2.4362 - mae: 1.8339\n",
      "Epoch 32/200\n",
      "30/30 [==============================] - 3s 76ms/step - loss: 6.7144 - root_mean_squared_error: 2.5007 - mae: 1.8807\n",
      "Epoch 33/200\n",
      "30/30 [==============================] - 3s 76ms/step - loss: 6.6769 - root_mean_squared_error: 2.4943 - mae: 1.8937\n",
      "Epoch 34/200\n",
      "30/30 [==============================] - 2s 76ms/step - loss: 6.4065 - root_mean_squared_error: 2.4418 - mae: 1.8595\n",
      "Epoch 35/200\n",
      "30/30 [==============================] - 3s 79ms/step - loss: 6.3193 - root_mean_squared_error: 2.4245 - mae: 1.8140\n",
      "Epoch 36/200\n",
      "30/30 [==============================] - 3s 76ms/step - loss: 6.4374 - root_mean_squared_error: 2.4518 - mae: 1.8588\n",
      "Epoch 37/200\n",
      "30/30 [==============================] - 3s 81ms/step - loss: 5.9944 - root_mean_squared_error: 2.3629 - mae: 1.8337\n",
      "Epoch 38/200\n",
      "30/30 [==============================] - 3s 80ms/step - loss: 5.7787 - root_mean_squared_error: 2.3179 - mae: 1.7520\n",
      "Epoch 39/200\n",
      "30/30 [==============================] - 3s 80ms/step - loss: 5.6889 - root_mean_squared_error: 2.2998 - mae: 1.7592\n",
      "Epoch 40/200\n",
      "30/30 [==============================] - 3s 76ms/step - loss: 6.0765 - root_mean_squared_error: 2.3842 - mae: 1.8554\n",
      "Epoch 41/200\n",
      "30/30 [==============================] - 3s 76ms/step - loss: 6.2401 - root_mean_squared_error: 2.4188 - mae: 1.8795\n",
      "Epoch 42/200\n",
      "30/30 [==============================] - 3s 80ms/step - loss: 5.2418 - root_mean_squared_error: 2.2055 - mae: 1.6777\n",
      "Epoch 43/200\n",
      "30/30 [==============================] - 3s 77ms/step - loss: 5.4220 - root_mean_squared_error: 2.2473 - mae: 1.7041\n",
      "Epoch 44/200\n",
      "30/30 [==============================] - 3s 76ms/step - loss: 5.6174 - root_mean_squared_error: 2.2920 - mae: 1.7264\n",
      "Epoch 45/200\n",
      "30/30 [==============================] - 3s 76ms/step - loss: 5.3416 - root_mean_squared_error: 2.2339 - mae: 1.6910\n",
      "Epoch 46/200\n",
      "30/30 [==============================] - 2s 76ms/step - loss: 6.3438 - root_mean_squared_error: 2.4490 - mae: 1.8854\n",
      "Epoch 47/200\n",
      "30/30 [==============================] - 3s 80ms/step - loss: 5.1526 - root_mean_squared_error: 2.1925 - mae: 1.6689\n",
      "Epoch 48/200\n",
      "30/30 [==============================] - 3s 76ms/step - loss: 5.3076 - root_mean_squared_error: 2.2292 - mae: 1.6942\n",
      "Epoch 49/200\n",
      "30/30 [==============================] - 3s 81ms/step - loss: 5.0726 - root_mean_squared_error: 2.1772 - mae: 1.6734\n",
      "Epoch 50/200\n",
      "30/30 [==============================] - 3s 79ms/step - loss: 4.9112 - root_mean_squared_error: 2.1411 - mae: 1.6377\n",
      "Epoch 51/200\n",
      "30/30 [==============================] - 3s 76ms/step - loss: 5.0749 - root_mean_squared_error: 2.1804 - mae: 1.6617\n",
      "Epoch 52/200\n",
      "30/30 [==============================] - 2s 76ms/step - loss: 5.1395 - root_mean_squared_error: 2.1977 - mae: 1.6475\n",
      "Epoch 53/200\n",
      "30/30 [==============================] - 2s 76ms/step - loss: 5.2833 - root_mean_squared_error: 2.2306 - mae: 1.7517\n",
      "Epoch 54/200\n",
      "30/30 [==============================] - 2s 76ms/step - loss: 5.4493 - root_mean_squared_error: 2.2682 - mae: 1.7216\n",
      "Epoch 55/200\n",
      "30/30 [==============================] - 3s 76ms/step - loss: 5.1711 - root_mean_squared_error: 2.2080 - mae: 1.6715\n",
      "Epoch 56/200\n",
      "30/30 [==============================] - 3s 76ms/step - loss: 5.1659 - root_mean_squared_error: 2.2078 - mae: 1.6962\n",
      "Epoch 57/200\n",
      "30/30 [==============================] - 3s 76ms/step - loss: 5.0633 - root_mean_squared_error: 2.1861 - mae: 1.7093\n",
      "Epoch 58/200\n",
      "30/30 [==============================] - 3s 76ms/step - loss: 5.3615 - root_mean_squared_error: 2.2532 - mae: 1.7367\n",
      "Epoch 59/200\n",
      "30/30 [==============================] - 3s 76ms/step - loss: 5.1840 - root_mean_squared_error: 2.2142 - mae: 1.6902\n",
      "Epoch 60/200\n",
      "30/30 [==============================] - 3s 76ms/step - loss: 5.5044 - root_mean_squared_error: 2.2859 - mae: 1.7721\n",
      "Epoch 61/200\n",
      "30/30 [==============================] - 3s 76ms/step - loss: 5.4234 - root_mean_squared_error: 2.2691 - mae: 1.7515\n",
      "Epoch 62/200\n",
      "30/30 [==============================] - 3s 79ms/step - loss: 4.8759 - root_mean_squared_error: 2.1451 - mae: 1.6530\n",
      "Epoch 63/200\n"
     ]
    },
    {
     "name": "stdout",
     "output_type": "stream",
     "text": [
      "30/30 [==============================] - 3s 80ms/step - loss: 4.8714 - root_mean_squared_error: 2.1449 - mae: 1.6453\n",
      "Epoch 64/200\n",
      "30/30 [==============================] - 3s 80ms/step - loss: 4.5566 - root_mean_squared_error: 2.0700 - mae: 1.6019\n",
      "Epoch 65/200\n",
      "30/30 [==============================] - 3s 80ms/step - loss: 4.3672 - root_mean_squared_error: 2.0251 - mae: 1.5499\n",
      "Epoch 66/200\n",
      "30/30 [==============================] - 3s 76ms/step - loss: 5.2512 - root_mean_squared_error: 2.2335 - mae: 1.7146\n",
      "Epoch 67/200\n",
      "30/30 [==============================] - 3s 77ms/step - loss: 5.1500 - root_mean_squared_error: 2.2120 - mae: 1.6562\n",
      "Epoch 68/200\n",
      "30/30 [==============================] - 3s 76ms/step - loss: 4.6407 - root_mean_squared_error: 2.0939 - mae: 1.5867\n",
      "Epoch 69/200\n",
      "30/30 [==============================] - 3s 76ms/step - loss: 4.8168 - root_mean_squared_error: 2.1360 - mae: 1.6619\n",
      "Epoch 70/200\n",
      "30/30 [==============================] - 3s 80ms/step - loss: 4.3547 - root_mean_squared_error: 2.0260 - mae: 1.5505\n",
      "Epoch 71/200\n",
      "30/30 [==============================] - 3s 80ms/step - loss: 4.2180 - root_mean_squared_error: 1.9931 - mae: 1.5190\n",
      "Epoch 72/200\n",
      "30/30 [==============================] - 3s 76ms/step - loss: 4.2742 - root_mean_squared_error: 2.0078 - mae: 1.5523\n",
      "Epoch 73/200\n",
      "30/30 [==============================] - 3s 76ms/step - loss: 4.2353 - root_mean_squared_error: 1.9981 - mae: 1.5197\n",
      "Epoch 74/200\n",
      "30/30 [==============================] - 3s 77ms/step - loss: 4.9617 - root_mean_squared_error: 2.1740 - mae: 1.6881\n",
      "Epoch 75/200\n",
      "30/30 [==============================] - 3s 76ms/step - loss: 4.9259 - root_mean_squared_error: 2.1660 - mae: 1.6512\n",
      "Epoch 76/200\n",
      "30/30 [==============================] - 3s 76ms/step - loss: 4.7529 - root_mean_squared_error: 2.1267 - mae: 1.6116\n",
      "Epoch 77/200\n",
      "30/30 [==============================] - 3s 84ms/step - loss: 4.4319 - root_mean_squared_error: 2.0498 - mae: 1.5455\n",
      "Epoch 78/200\n",
      "30/30 [==============================] - 3s 84ms/step - loss: 4.6505 - root_mean_squared_error: 2.1029 - mae: 1.6488\n",
      "Epoch 79/200\n",
      "30/30 [==============================] - 3s 93ms/step - loss: 4.1761 - root_mean_squared_error: 1.9874 - mae: 1.5140\n",
      "Epoch 80/200\n",
      "30/30 [==============================] - 3s 77ms/step - loss: 4.3357 - root_mean_squared_error: 2.0284 - mae: 1.5648\n",
      "Epoch 81/200\n",
      "30/30 [==============================] - 3s 81ms/step - loss: 4.0948 - root_mean_squared_error: 1.9687 - mae: 1.5008\n",
      "Epoch 82/200\n",
      "30/30 [==============================] - 3s 76ms/step - loss: 4.1900 - root_mean_squared_error: 1.9934 - mae: 1.5384\n",
      "Epoch 83/200\n",
      "30/30 [==============================] - 3s 80ms/step - loss: 3.9893 - root_mean_squared_error: 1.9436 - mae: 1.4898\n",
      "Epoch 84/200\n",
      "30/30 [==============================] - 3s 76ms/step - loss: 4.0287 - root_mean_squared_error: 1.9543 - mae: 1.4891\n",
      "Epoch 85/200\n",
      "30/30 [==============================] - 3s 77ms/step - loss: 4.7642 - root_mean_squared_error: 2.1343 - mae: 1.6204\n",
      "Epoch 86/200\n",
      "30/30 [==============================] - 3s 76ms/step - loss: 4.2219 - root_mean_squared_error: 2.0034 - mae: 1.5104\n",
      "Epoch 87/200\n",
      "30/30 [==============================] - 2s 76ms/step - loss: 5.1486 - root_mean_squared_error: 2.2232 - mae: 1.7257\n",
      "Epoch 88/200\n",
      "30/30 [==============================] - 2s 76ms/step - loss: 4.4906 - root_mean_squared_error: 2.0696 - mae: 1.5915\n",
      "Epoch 89/200\n",
      "30/30 [==============================] - 2s 76ms/step - loss: 4.2119 - root_mean_squared_error: 2.0016 - mae: 1.5647\n",
      "Epoch 90/200\n",
      "30/30 [==============================] - 2s 76ms/step - loss: 4.6047 - root_mean_squared_error: 2.0976 - mae: 1.6220\n",
      "Epoch 91/200\n",
      "30/30 [==============================] - 3s 76ms/step - loss: 4.2808 - root_mean_squared_error: 2.0189 - mae: 1.5582\n",
      "Epoch 92/200\n",
      "30/30 [==============================] - 2s 76ms/step - loss: 5.0718 - root_mean_squared_error: 2.2067 - mae: 1.6852\n",
      "Epoch 93/200\n",
      "30/30 [==============================] - 3s 77ms/step - loss: 4.5201 - root_mean_squared_error: 2.0779 - mae: 1.5987\n",
      "Epoch 94/200\n",
      "30/30 [==============================] - 3s 76ms/step - loss: 4.7112 - root_mean_squared_error: 2.1242 - mae: 1.6013\n",
      "Epoch 95/200\n",
      "30/30 [==============================] - 3s 76ms/step - loss: 4.1778 - root_mean_squared_error: 1.9946 - mae: 1.5222\n",
      "Epoch 96/200\n",
      "30/30 [==============================] - 3s 76ms/step - loss: 4.5116 - root_mean_squared_error: 2.0768 - mae: 1.6217\n",
      "Epoch 97/200\n",
      "30/30 [==============================] - 3s 77ms/step - loss: 4.0869 - root_mean_squared_error: 1.9727 - mae: 1.5122\n",
      "Epoch 98/200\n",
      "30/30 [==============================] - 3s 76ms/step - loss: 4.3171 - root_mean_squared_error: 2.0293 - mae: 1.5693\n"
     ]
    }
   ],
   "source": [
    "from tensorflow.keras.callbacks import EarlyStopping, ModelCheckpoint\n",
    "\n",
    "es = EarlyStopping(monitor='loss', mode = 'min',patience=15)\n",
    "\n",
    "epochs = 200\n",
    "batch_size = 32\n",
    "filename = 'LSTM_model_w.dropout_epoch-{}-batch-{}.h5'.format(epochs, batch_size)\n",
    "\n",
    "checkpoint = ModelCheckpoint(filename, monitor='loss',save_best_only=True)\n",
    "\n",
    "history = model.fit(train_data, epochs=epochs, batch_size=batch_size, callbacks=[es, checkpoint])"
   ]
  },
  {
   "cell_type": "code",
   "execution_count": 20,
   "id": "7ec23183",
   "metadata": {
    "ExecuteTime": {
     "end_time": "2022-03-29T08:01:03.058282Z",
     "start_time": "2022-03-29T08:01:03.058282Z"
    },
    "scrolled": false
   },
   "outputs": [
    {
     "data": {
      "text/plain": [
       "(192, 1)"
      ]
     },
     "execution_count": 20,
     "metadata": {},
     "output_type": "execute_result"
    }
   ],
   "source": [
    "pred = model.predict(test_data)\n",
    "pred.shape"
   ]
  },
  {
   "cell_type": "code",
   "execution_count": 21,
   "id": "078cdd25",
   "metadata": {},
   "outputs": [
    {
     "name": "stdout",
     "output_type": "stream",
     "text": [
      "[[60.467644]\n",
      " [60.59008 ]\n",
      " [59.721806]\n",
      " [58.806435]\n",
      " [58.78608 ]\n",
      " [59.45228 ]\n",
      " [59.957714]\n",
      " [61.218033]\n",
      " [62.04991 ]\n",
      " [62.516277]\n",
      " [62.714645]\n",
      " [62.974243]\n",
      " [62.71452 ]\n",
      " [62.399273]\n",
      " [62.115364]\n",
      " [61.61609 ]\n",
      " [61.45609 ]\n",
      " [60.911167]\n",
      " [60.03602 ]\n",
      " [59.46161 ]\n",
      " [58.809578]\n",
      " [57.084885]\n",
      " [56.81743 ]\n",
      " [56.475266]\n",
      " [56.11271 ]\n",
      " [55.941414]\n",
      " [55.09526 ]\n",
      " [55.38276 ]\n",
      " [55.291805]\n",
      " [55.702187]\n",
      " [55.344864]\n",
      " [54.07023 ]\n",
      " [52.788776]\n",
      " [52.49269 ]\n",
      " [52.821995]\n",
      " [54.006233]\n",
      " [54.729954]\n",
      " [54.477306]\n",
      " [54.838753]\n",
      " [55.567978]\n",
      " [56.133648]\n",
      " [56.44129 ]\n",
      " [56.7965  ]\n",
      " [57.10369 ]\n",
      " [57.179985]\n",
      " [56.938663]\n",
      " [57.00189 ]\n",
      " [57.118767]\n",
      " [56.978428]\n",
      " [56.989265]\n",
      " [56.82035 ]\n",
      " [56.973106]\n",
      " [56.978844]\n",
      " [57.11397 ]\n",
      " [57.053154]\n",
      " [56.877037]\n",
      " [55.708107]\n",
      " [55.863556]\n",
      " [55.783348]\n",
      " [55.947777]\n",
      " [55.860565]\n",
      " [56.181847]\n",
      " [56.43169 ]\n",
      " [56.505554]\n",
      " [56.070446]\n",
      " [56.043182]\n",
      " [56.147552]\n",
      " [55.874485]\n",
      " [56.124973]\n",
      " [55.311153]\n",
      " [55.165104]\n",
      " [55.67881 ]\n",
      " [55.987785]\n",
      " [56.048347]\n",
      " [55.489845]\n",
      " [54.536297]\n",
      " [53.288536]\n",
      " [53.224068]\n",
      " [54.04532 ]\n",
      " [54.62419 ]\n",
      " [53.19597 ]\n",
      " [53.09887 ]\n",
      " [52.05368 ]\n",
      " [51.791862]\n",
      " [52.19161 ]\n",
      " [52.924667]\n",
      " [53.45781 ]\n",
      " [53.523014]\n",
      " [53.352608]\n",
      " [53.506615]\n",
      " [53.04452 ]\n",
      " [53.34414 ]\n",
      " [53.791668]\n",
      " [53.938145]\n",
      " [53.895298]\n",
      " [53.601635]\n",
      " [53.13056 ]\n",
      " [52.318604]\n",
      " [51.705376]\n",
      " [50.951366]\n",
      " [50.876316]\n",
      " [51.591263]\n",
      " [52.479927]\n",
      " [53.204666]\n",
      " [53.105057]\n",
      " [53.183304]\n",
      " [53.722523]\n",
      " [53.649895]\n",
      " [53.460995]\n",
      " [53.376156]\n",
      " [53.140457]\n",
      " [52.940544]\n",
      " [52.39801 ]\n",
      " [52.43625 ]\n",
      " [52.633675]\n",
      " [52.872314]\n",
      " [53.08292 ]\n",
      " [53.34933 ]\n",
      " [53.355324]\n",
      " [52.74279 ]\n",
      " [51.572197]\n",
      " [51.424404]\n",
      " [51.692097]\n",
      " [52.189526]\n",
      " [52.624786]\n",
      " [52.97562 ]\n",
      " [52.476006]\n",
      " [51.87009 ]\n",
      " [51.400906]\n",
      " [51.59985 ]\n",
      " [51.51068 ]\n",
      " [51.884212]\n",
      " [51.965466]\n",
      " [52.65339 ]\n",
      " [52.899902]\n",
      " [52.749557]\n",
      " [51.727863]\n",
      " [51.62822 ]\n",
      " [51.799908]\n",
      " [52.42097 ]\n",
      " [52.769623]\n",
      " [53.65922 ]\n",
      " [54.253345]\n",
      " [53.884823]\n",
      " [49.999798]\n",
      " [49.526535]\n",
      " [48.10189 ]\n",
      " [47.582726]\n",
      " [47.346188]\n",
      " [47.650955]\n",
      " [48.518055]\n",
      " [49.18449 ]\n",
      " [49.1309  ]\n",
      " [49.84931 ]\n",
      " [50.14745 ]\n",
      " [50.8674  ]\n",
      " [51.64215 ]\n",
      " [51.000443]\n",
      " [50.770435]\n",
      " [50.725204]\n",
      " [50.456806]\n",
      " [50.245598]\n",
      " [50.102257]\n",
      " [49.73429 ]\n",
      " [49.412693]\n",
      " [49.235806]\n",
      " [48.75254 ]\n",
      " [48.81356 ]\n",
      " [48.440437]\n",
      " [48.568077]\n",
      " [48.27292 ]\n",
      " [48.386223]\n",
      " [47.979282]\n",
      " [48.171516]\n",
      " [48.01499 ]\n",
      " [49.22258 ]\n",
      " [50.562424]\n",
      " [50.383778]\n",
      " [49.617935]\n",
      " [48.56307 ]\n",
      " [47.932713]\n",
      " [47.93544 ]\n",
      " [48.821125]\n",
      " [48.142532]\n",
      " [47.782993]\n",
      " [47.96111 ]\n",
      " [48.773384]\n",
      " [49.57242 ]\n",
      " [50.40256 ]\n",
      " [51.05494 ]\n",
      " [51.270252]\n",
      " [50.945213]]\n"
     ]
    }
   ],
   "source": [
    "print(pred)"
   ]
  },
  {
   "cell_type": "code",
   "execution_count": 22,
   "id": "7694ed81",
   "metadata": {
    "ExecuteTime": {
     "end_time": "2022-03-29T08:01:03.059279Z",
     "start_time": "2022-03-29T08:01:03.059279Z"
    },
    "scrolled": true
   },
   "outputs": [
    {
     "name": "stdout",
     "output_type": "stream",
     "text": [
      "30/30 [==============================] - 2s 35ms/step - loss: 1.9306 - root_mean_squared_error: 1.3160 - mae: 0.9384\n",
      "6/6 [==============================] - 0s 40ms/step - loss: 3.5637 - root_mean_squared_error: 1.8343 - mae: 1.3514\n",
      "[1.9306445121765137, 1.315954566001892, 0.9383681416511536]\n",
      "[3.5636940002441406, 1.8343353271484375, 1.3513613939285278]\n"
     ]
    }
   ],
   "source": [
    "# 모델 평가\n",
    "\n",
    "train_metrics = model.evaluate(train_data)\n",
    "test_metrics = model.evaluate(test_data)\n",
    "\n",
    "print(train_metrics)\n",
    "print(test_metrics) "
   ]
  },
  {
   "cell_type": "code",
   "execution_count": 23,
   "id": "96c6178d",
   "metadata": {
    "ExecuteTime": {
     "end_time": "2022-03-29T08:01:03.061274Z",
     "start_time": "2022-03-29T08:01:03.061274Z"
    },
    "scrolled": true
   },
   "outputs": [
    {
     "data": {
      "image/png": "[encoded data removed]",
      "text/plain": [
       "<Figure size 864x648 with 1 Axes>"
      ]
     },
     "metadata": {
      "needs_background": "light"
     },
     "output_type": "display_data"
    }
   ],
   "source": [
    "plt.figure(figsize=(12, 9))\n",
    "plt.plot(np.asarray(y_test)[50:], label='actual')\n",
    "plt.plot(pred, label='prediction')\n",
    "plt.legend()\n",
    "plt.show()"
   ]
  },
  {
   "cell_type": "code",
   "execution_count": 24,
   "id": "1243143b",
   "metadata": {},
   "outputs": [
    {
     "data": {
      "text/html": [
       "<div>\n",
       "<style scoped>\n",
       "    .dataframe tbody tr th:only-of-type {\n",
       "        vertical-align: middle;\n",
       "    }\n",
       "\n",
       "    .dataframe tbody tr th {\n",
       "        vertical-align: top;\n",
       "    }\n",
       "\n",
       "    .dataframe thead th {\n",
       "        text-align: right;\n",
       "    }\n",
       "</style>\n",
       "<table border=\"1\" class=\"dataframe\">\n",
       "  <thead>\n",
       "    <tr style=\"text-align: right;\">\n",
       "      <th></th>\n",
       "      <th>real</th>\n",
       "      <th>prediction</th>\n",
       "      <th>real+1</th>\n",
       "    </tr>\n",
       "  </thead>\n",
       "  <tbody>\n",
       "    <tr>\n",
       "      <th>real</th>\n",
       "      <td>1.0000</td>\n",
       "      <td>0.9437</td>\n",
       "      <td>0.9755</td>\n",
       "    </tr>\n",
       "    <tr>\n",
       "      <th>prediction</th>\n",
       "      <td>0.9437</td>\n",
       "      <td>1.0000</td>\n",
       "      <td>0.9644</td>\n",
       "    </tr>\n",
       "    <tr>\n",
       "      <th>real+1</th>\n",
       "      <td>0.9755</td>\n",
       "      <td>0.9644</td>\n",
       "      <td>1.0000</td>\n",
       "    </tr>\n",
       "  </tbody>\n",
       "</table>\n",
       "</div>"
      ],
      "text/plain": [
       "             real  prediction  real+1\n",
       "real       1.0000      0.9437  0.9755\n",
       "prediction 0.9437      1.0000  0.9644\n",
       "real+1     0.9755      0.9644  1.0000"
      ]
     },
     "execution_count": 24,
     "metadata": {},
     "output_type": "execute_result"
    }
   ],
   "source": [
    "unscaled_y = data.iloc[-192:, -2]\n",
    "y_predicted = model.predict(test_data)\n",
    "\n",
    "col_name = ['real', 'prediction']\n",
    "# real = plt.plot(np.asarray(y_test)[20:], label='actual')\n",
    "\n",
    "real = pd.DataFrame(unscaled_y)\n",
    "real = real.reset_index().iloc[:,1]\n",
    "prediction = pd.DataFrame(y_predicted)\n",
    "\n",
    "foo = pd.concat([real, prediction], axis = 1)\n",
    "foo.columns = col_name\n",
    "foo['real+1'] = foo['real'].shift(periods = 1)\n",
    "foo.corr()"
   ]
  },
  {
   "cell_type": "code",
   "execution_count": 25,
   "id": "40a80701",
   "metadata": {},
   "outputs": [
    {
     "data": {
      "text/plain": [
       "Date\n",
       "2021-03-23   63.4800\n",
       "2021-03-24   62.0400\n",
       "2021-03-25   62.0200\n",
       "2021-03-26   64.8700\n",
       "2021-03-29   64.5000\n",
       "               ...  \n",
       "2021-12-27   51.9400\n",
       "2021-12-28   51.7600\n",
       "2021-12-29   51.8300\n",
       "2021-12-30   51.7400\n",
       "2021-12-31   51.5000\n",
       "Name: Close, Length: 192, dtype: float64"
      ]
     },
     "execution_count": 25,
     "metadata": {},
     "output_type": "execute_result"
    }
   ],
   "source": [
    "unscaled_y"
   ]
  },
  {
   "cell_type": "code",
   "execution_count": null,
   "id": "bc6918ec",
   "metadata": {},
   "outputs": [],
   "source": []
  },
  {
   "cell_type": "code",
   "execution_count": null,
   "id": "64fe6403",
   "metadata": {},
   "outputs": [],
   "source": []
  },
  {
   "cell_type": "code",
   "execution_count": null,
   "id": "6b32032d",
   "metadata": {},
   "outputs": [],
   "source": []
  },
  {
   "cell_type": "code",
   "execution_count": null,
   "id": "eb5bb00b",
   "metadata": {},
   "outputs": [],
   "source": []
  },
  {
   "cell_type": "code",
   "execution_count": null,
   "id": "1db2c3bc",
   "metadata": {},
   "outputs": [],
   "source": []
  },
  {
   "cell_type": "code",
   "execution_count": null,
   "id": "37f40757",
   "metadata": {},
   "outputs": [],
   "source": []
  },
  {
   "cell_type": "code",
   "execution_count": null,
   "id": "a2920576",
   "metadata": {},
   "outputs": [],
   "source": []
  },
  {
   "cell_type": "code",
   "execution_count": null,
   "id": "62b1a17d",
   "metadata": {},
   "outputs": [],
   "source": []
  }
 ],
 "metadata": {
  "kernelspec": {
   "display_name": "Python 3 (ipykernel)",
   "language": "python",
   "name": "python3"
  },
  "language_info": {
   "codemirror_mode": {
    "name": "ipython",
    "version": 3
   },
   "file_extension": ".py",
   "mimetype": "text/x-python",
   "name": "python",
   "nbconvert_exporter": "python",
   "pygments_lexer": "ipython3",
   "version": "3.9.7"
  },
  "toc": {
   "base_numbering": 1,
   "nav_menu": {},
   "number_sections": true,
   "sideBar": true,
   "skip_h1_title": false,
   "title_cell": "Table of Contents",
   "title_sidebar": "Contents",
   "toc_cell": false,
   "toc_position": {},
   "toc_section_display": true,
   "toc_window_display": false
  }
 },
 "nbformat": 4,
 "nbformat_minor": 5
}
