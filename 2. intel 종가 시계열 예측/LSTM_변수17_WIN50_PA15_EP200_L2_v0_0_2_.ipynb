{
  "cells": [
    {
      "cell_type": "code",
      "execution_count": 1,
      "id": "8f61ecb7",
      "metadata": {
        "ExecuteTime": {
          "end_time": "2022-03-30T01:26:30.090184Z",
          "start_time": "2022-03-30T01:26:25.114196Z"
        },
        "id": "8f61ecb7"
      },
      "outputs": [],
      "source": [
        "import pandas as pd\n",
        "import seaborn as sns\n",
        "import matplotlib.pyplot as plt\n",
        "import numpy as np\n",
        "from sklearn.preprocessing import MinMaxScaler\n",
        "from sklearn.model_selection import train_test_split\n",
        "import tensorflow as tf\n",
        "from tensorflow import keras\n",
        "from tensorflow.keras import Sequential, layers, regularizers\n",
        "from tensorflow.keras.layers import Dense, Dropout, LSTM, Conv1D, Lambda, BatchNormalization, Bidirectional"
      ]
    },
    {
      "cell_type": "code",
      "source": [
        "# 코랩 사용시 데이터 불러오기 코드\n",
        "from google.colab import drive\n",
        "drive.mount('/content/drive')\n",
        "filename = '/content/drive/MyDrive/data/data.csv' # 데이터 위치한 구글 드라이브 경로로 수정\n",
        "data = pd.read_csv(filename)\n",
        "data = data.set_index('Date')"
      ],
      "metadata": {
        "id": "z1xA-OJegbqK",
        "colab": {
          "base_uri": "https://localhost:8080/"
        },
        "outputId": "4649e1a3-139e-4d75-8abf-7b525cf00b8c"
      },
      "id": "z1xA-OJegbqK",
      "execution_count": 2,
      "outputs": [
        {
          "output_type": "stream",
          "name": "stdout",
          "text": [
            "Drive already mounted at /content/drive; to attempt to forcibly remount, call drive.mount(\"/content/drive\", force_remount=True).\n"
          ]
        }
      ]
    },
    {
      "cell_type": "code",
      "execution_count": 3,
      "id": "26bcad25",
      "metadata": {
        "ExecuteTime": {
          "end_time": "2022-03-30T01:37:39.001255Z",
          "start_time": "2022-03-30T01:37:38.983303Z"
        },
        "id": "26bcad25"
      },
      "outputs": [],
      "source": [
        "# 로컬 사용시 데이터 불러오기 코드\n",
        "# data = pd.read_csv('./data.csv')\n",
        "# data = data.set_index('Date')"
      ]
    },
    {
      "cell_type": "code",
      "execution_count": 4,
      "id": "0e8e84c6",
      "metadata": {
        "ExecuteTime": {
          "end_time": "2022-03-30T01:30:05.063342Z",
          "start_time": "2022-03-30T01:30:05.047720Z"
        },
        "id": "0e8e84c6"
      },
      "outputs": [],
      "source": [
        "X = data.drop(['Close'], axis=1)\n",
        "y = data['Close']\n",
        "y = pd.DataFrame(y)"
      ]
    },
    {
      "cell_type": "code",
      "execution_count": 5,
      "id": "2c365d96",
      "metadata": {
        "ExecuteTime": {
          "end_time": "2022-03-30T01:30:07.521561Z",
          "start_time": "2022-03-30T01:30:07.511601Z"
        },
        "id": "2c365d96",
        "colab": {
          "base_uri": "https://localhost:8080/"
        },
        "outputId": "239fde37-ba46-4e13-c2de-f7b4daf95d13"
      },
      "outputs": [
        {
          "output_type": "stream",
          "name": "stdout",
          "text": [
            "(1001, 17)\n",
            "(242, 17)\n"
          ]
        }
      ],
      "source": [
        "X_train = X.loc[X.index < '2021-01-01',:]\n",
        "X_test = X.loc[X.index >= '2021-01-01',:]\n",
        "\n",
        "print(X_train.shape)\n",
        "print(X_test.shape)"
      ]
    },
    {
      "cell_type": "code",
      "execution_count": 6,
      "id": "b0372d2e",
      "metadata": {
        "ExecuteTime": {
          "end_time": "2022-03-30T01:30:09.830835Z",
          "start_time": "2022-03-30T01:30:09.812874Z"
        },
        "id": "b0372d2e",
        "colab": {
          "base_uri": "https://localhost:8080/"
        },
        "outputId": "27bc829d-b08c-4daf-bdb8-b262495146c3"
      },
      "outputs": [
        {
          "output_type": "stream",
          "name": "stdout",
          "text": [
            "(1001, 1)\n",
            "(242, 1)\n"
          ]
        }
      ],
      "source": [
        "y_train = y.loc[y.index < '2021-01-01',:]\n",
        "y_test = y.loc[y.index >= '2021-01-01',:]\n",
        "\n",
        "print(y_train.shape)\n",
        "print(y_test.shape)"
      ]
    },
    {
      "cell_type": "code",
      "execution_count": 7,
      "id": "a7f512bf",
      "metadata": {
        "ExecuteTime": {
          "end_time": "2022-03-30T01:30:10.400791Z",
          "start_time": "2022-03-30T01:30:10.382846Z"
        },
        "id": "a7f512bf",
        "colab": {
          "base_uri": "https://localhost:8080/"
        },
        "outputId": "cb11443f-c83f-441f-de51-a5201143028c"
      },
      "outputs": [
        {
          "output_type": "stream",
          "name": "stdout",
          "text": [
            "[[0.02093898 0.36845681 0.78884601 ... 0.06933084 0.02995227 0.01016992]\n",
            " [0.02862752 0.39056438 0.79700101 ... 0.07245972 0.02895618 0.01067945]\n",
            " [0.02862752 0.37480557 0.80138544 ... 0.0749845  0.02787182 0.01114393]\n",
            " ...\n",
            " [0.98118763 0.95300905 0.75087686 ... 0.47157683 0.52118599 0.60467663]\n",
            " [0.98396859 0.97331537 0.75438442 ... 0.47032218 0.51933249 0.60094004]\n",
            " [1.         0.96826585 0.75543667 ... 0.47019826 0.5183553  0.59790362]]\n",
            "<class 'numpy.ndarray'>\n",
            "(1001, 17)\n",
            "----------------------\n",
            "[[0.96302961 0.93977012 0.74754469 ... 0.46815365 0.51646398 0.59467656]\n",
            " [0.98004253 0.97244917 0.76780075 ... 0.4660161  0.51472396 0.591758  ]\n",
            " [0.99460167 1.05002259 0.77393896 ... 0.46741015 0.5136396  0.58897115]\n",
            " ...\n",
            " [1.67773597 1.23834086 1.00131527 ... 0.51392503 0.60798517 0.70895466]\n",
            " [1.66972027 1.23789797 1.00508588 ... 0.51878873 0.6065919  0.70722501]\n",
            " [1.66072305 1.23447259 0.98947734 ... 0.52188663 0.6050284  0.70536365]]\n",
            "<class 'numpy.ndarray'>\n",
            "(242, 17)\n"
          ]
        }
      ],
      "source": [
        "from sklearn.preprocessing import MinMaxScaler\n",
        "\n",
        "scaler = MinMaxScaler(feature_range=(0,1))\n",
        "\n",
        "# 스케일 후 columns\n",
        "X_train = scaler.fit_transform(X_train)\n",
        "X_test = scaler.transform(X_test)\n",
        "\n",
        "\n",
        "print(X_train)\n",
        "print(type(X_train))\n",
        "print(X_train.shape)\n",
        "print('----------------------')\n",
        "print(X_test)\n",
        "print(type(X_test))\n",
        "print(X_test.shape)"
      ]
    },
    {
      "cell_type": "code",
      "execution_count": 8,
      "id": "e77c90fb",
      "metadata": {
        "ExecuteTime": {
          "end_time": "2022-03-30T01:30:10.987577Z",
          "start_time": "2022-03-30T01:30:10.977570Z"
        },
        "id": "e77c90fb"
      },
      "outputs": [],
      "source": [
        "WINDOW_SIZE=50\n",
        "BATCH_SIZE=32"
      ]
    },
    {
      "cell_type": "code",
      "execution_count": 9,
      "id": "f31ce010",
      "metadata": {
        "ExecuteTime": {
          "end_time": "2022-03-30T01:30:11.651313Z",
          "start_time": "2022-03-30T01:30:11.637361Z"
        },
        "id": "f31ce010"
      },
      "outputs": [],
      "source": [
        "def windowed_dataset(x,y, window_size, batch_size, shuffle):\n",
        "    # x 값\n",
        "    ds_x = tf.data.Dataset.from_tensor_slices(x)\n",
        "    ds_x = ds_x.window(WINDOW_SIZE, stride=1, shift=1, drop_remainder=True)\n",
        "    ds_x = ds_x.flat_map(lambda x: x.batch(WINDOW_SIZE))\n",
        "    # y 값\n",
        "    ds_y = tf.data.Dataset.from_tensor_slices(y[WINDOW_SIZE:])\n",
        "    ds = tf.data.Dataset.zip((ds_x, ds_y))\n",
        "    if shuffle:\n",
        "        ds = ds.shuffle(1000)\n",
        "    return ds.batch(batch_size).prefetch(1)"
      ]
    },
    {
      "cell_type": "code",
      "execution_count": 10,
      "id": "63ff1d3a",
      "metadata": {
        "ExecuteTime": {
          "end_time": "2022-03-30T01:30:17.266098Z",
          "start_time": "2022-03-30T01:30:12.267268Z"
        },
        "id": "63ff1d3a"
      },
      "outputs": [],
      "source": [
        "train_data = windowed_dataset(X_train, y_train, WINDOW_SIZE, BATCH_SIZE, True)\n",
        "test_data = windowed_dataset(X_test, y_test, WINDOW_SIZE, BATCH_SIZE, False)"
      ]
    },
    {
      "cell_type": "code",
      "execution_count": 11,
      "id": "feefb43c",
      "metadata": {
        "ExecuteTime": {
          "end_time": "2022-03-30T01:31:08.421194Z",
          "start_time": "2022-03-30T01:31:07.502993Z"
        },
        "id": "feefb43c",
        "colab": {
          "base_uri": "https://localhost:8080/"
        },
        "outputId": "3dfcc7f1-94e1-46d2-9bb8-cd3ce3a29142"
      },
      "outputs": [
        {
          "output_type": "stream",
          "name": "stdout",
          "text": [
            "Model: \"sequential\"\n",
            "_________________________________________________________________\n",
            " Layer (type)                Output Shape              Param #   \n",
            "=================================================================\n",
            " conv1d (Conv1D)             (None, 50, 64)            18560     \n",
            "                                                                 \n",
            " bidirectional (Bidirectiona  (None, 50, 806)          1508832   \n",
            " l)                                                              \n",
            "                                                                 \n",
            " lstm_1 (LSTM)               (None, 256)               1088512   \n",
            "                                                                 \n",
            " dropout (Dropout)           (None, 256)               0         \n",
            "                                                                 \n",
            " dense (Dense)               (None, 32)                8224      \n",
            "                                                                 \n",
            " dense_1 (Dense)             (None, 8)                 264       \n",
            "                                                                 \n",
            " dense_2 (Dense)             (None, 1)                 9         \n",
            "                                                                 \n",
            "=================================================================\n",
            "Total params: 2,624,401\n",
            "Trainable params: 2,624,401\n",
            "Non-trainable params: 0\n",
            "_________________________________________________________________\n"
          ]
        }
      ],
      "source": [
        "# LSTM\n",
        "\n",
        "model = Sequential([\n",
        "    Conv1D(filters=64, kernel_size=17,\n",
        "           padding=\"causal\",\n",
        "           activation=\"relu\",\n",
        "           input_shape=[WINDOW_SIZE, 17])])\n",
        "\n",
        "model.add(Bidirectional(LSTM(403, return_sequences=True,kernel_regularizer=regularizers.l2(0.01), activation = 'tanh')))\n",
        "model.add(LSTM(256, activation = 'tanh'))\n",
        "model.add(Dropout(rate=0.1))\n",
        "\n",
        "model.add(Dense(32, activation='relu'))\n",
        "model.add(Dense(8, activation='relu'))\n",
        "\n",
        "model.add(Dense(1))\n",
        "\n",
        "\n",
        "model.summary()"
      ]
    },
    {
      "cell_type": "code",
      "execution_count": 12,
      "id": "2bb1df52",
      "metadata": {
        "ExecuteTime": {
          "end_time": "2022-03-30T01:31:08.452110Z",
          "start_time": "2022-03-30T01:31:08.424185Z"
        },
        "id": "2bb1df52"
      },
      "outputs": [],
      "source": [
        "model.compile(loss = 'mean_squared_error', optimizer = 'adam', metrics=[tf.keras.metrics.RootMeanSquaredError(), 'mae'])"
      ]
    },
    {
      "cell_type": "code",
      "source": [
        "pip install ModelCheckpoint"
      ],
      "metadata": {
        "colab": {
          "base_uri": "https://localhost:8080/"
        },
        "id": "wmVWjm8pV0t5",
        "outputId": "55d83b6f-b874-45ed-bea3-b68a03038476"
      },
      "id": "wmVWjm8pV0t5",
      "execution_count": 13,
      "outputs": [
        {
          "output_type": "stream",
          "name": "stdout",
          "text": [
            "\u001b[31mERROR: Could not find a version that satisfies the requirement ModelCheckpoint (from versions: none)\u001b[0m\n",
            "\u001b[31mERROR: No matching distribution found for ModelCheckpoint\u001b[0m\n"
          ]
        }
      ]
    },
    {
      "cell_type": "code",
      "execution_count": 14,
      "id": "caccff3e",
      "metadata": {
        "ExecuteTime": {
          "end_time": "2022-03-30T01:33:09.129198Z",
          "start_time": "2022-03-30T01:31:08.591381Z"
        },
        "id": "caccff3e",
        "colab": {
          "base_uri": "https://localhost:8080/"
        },
        "outputId": "5fcec178-1114-416b-c643-0865fc3c2f4d"
      },
      "outputs": [
        {
          "output_type": "stream",
          "name": "stdout",
          "text": [
            "Epoch 1/200\n",
            "30/30 [==============================] - 19s 127ms/step - loss: 2153.4849 - root_mean_squared_error: 46.3839 - mae: 45.7204\n",
            "Epoch 2/200\n",
            "30/30 [==============================] - 3s 87ms/step - loss: 1441.0546 - root_mean_squared_error: 37.9426 - mae: 37.0085\n",
            "Epoch 3/200\n",
            "30/30 [==============================] - 3s 88ms/step - loss: 610.8824 - root_mean_squared_error: 24.6940 - mae: 22.9695\n",
            "Epoch 4/200\n",
            "30/30 [==============================] - 3s 88ms/step - loss: 121.5127 - root_mean_squared_error: 10.9827 - mae: 8.9989\n",
            "Epoch 5/200\n",
            "30/30 [==============================] - 3s 87ms/step - loss: 60.3892 - root_mean_squared_error: 7.7224 - mae: 6.0020\n",
            "Epoch 6/200\n",
            "30/30 [==============================] - 3s 88ms/step - loss: 59.4733 - root_mean_squared_error: 7.6695 - mae: 5.9223\n",
            "Epoch 7/200\n",
            "30/30 [==============================] - 3s 88ms/step - loss: 59.6121 - root_mean_squared_error: 7.6836 - mae: 5.9902\n",
            "Epoch 8/200\n",
            "30/30 [==============================] - 3s 88ms/step - loss: 59.1510 - root_mean_squared_error: 7.6576 - mae: 5.9088\n",
            "Epoch 9/200\n",
            "30/30 [==============================] - 3s 87ms/step - loss: 59.5552 - root_mean_squared_error: 7.6865 - mae: 5.9599\n",
            "Epoch 10/200\n",
            "30/30 [==============================] - 3s 87ms/step - loss: 59.7764 - root_mean_squared_error: 7.7025 - mae: 5.9701\n",
            "Epoch 11/200\n",
            "30/30 [==============================] - 3s 88ms/step - loss: 57.9696 - root_mean_squared_error: 7.5865 - mae: 5.9008\n",
            "Epoch 12/200\n",
            "30/30 [==============================] - 3s 88ms/step - loss: 57.6600 - root_mean_squared_error: 7.5679 - mae: 5.8770\n",
            "Epoch 13/200\n",
            "30/30 [==============================] - 3s 87ms/step - loss: 55.8835 - root_mean_squared_error: 7.4496 - mae: 5.7558\n",
            "Epoch 14/200\n",
            "30/30 [==============================] - 3s 88ms/step - loss: 55.1734 - root_mean_squared_error: 7.4004 - mae: 5.7453\n",
            "Epoch 15/200\n",
            "30/30 [==============================] - 3s 88ms/step - loss: 53.0771 - root_mean_squared_error: 7.2585 - mae: 5.6089\n",
            "Epoch 16/200\n",
            "30/30 [==============================] - 3s 88ms/step - loss: 48.8911 - root_mean_squared_error: 6.9612 - mae: 5.3410\n",
            "Epoch 17/200\n",
            "30/30 [==============================] - 3s 88ms/step - loss: 43.2923 - root_mean_squared_error: 6.5464 - mae: 4.9710\n",
            "Epoch 18/200\n",
            "30/30 [==============================] - 3s 94ms/step - loss: 36.2565 - root_mean_squared_error: 5.9843 - mae: 4.5241\n",
            "Epoch 19/200\n",
            "30/30 [==============================] - 3s 93ms/step - loss: 24.5525 - root_mean_squared_error: 4.9080 - mae: 3.7244\n",
            "Epoch 20/200\n",
            "30/30 [==============================] - 3s 88ms/step - loss: 14.3535 - root_mean_squared_error: 3.7270 - mae: 2.8620\n",
            "Epoch 21/200\n",
            "30/30 [==============================] - 3s 88ms/step - loss: 8.1944 - root_mean_squared_error: 2.7789 - mae: 2.1057\n",
            "Epoch 22/200\n",
            "30/30 [==============================] - 3s 88ms/step - loss: 8.2861 - root_mean_squared_error: 2.7959 - mae: 2.1390\n",
            "Epoch 23/200\n",
            "30/30 [==============================] - 3s 89ms/step - loss: 6.9572 - root_mean_squared_error: 2.5467 - mae: 1.9206\n",
            "Epoch 24/200\n",
            "30/30 [==============================] - 3s 89ms/step - loss: 6.1253 - root_mean_squared_error: 2.3792 - mae: 1.8016\n",
            "Epoch 25/200\n",
            "30/30 [==============================] - 3s 88ms/step - loss: 5.7373 - root_mean_squared_error: 2.3007 - mae: 1.7624\n",
            "Epoch 26/200\n",
            "30/30 [==============================] - 3s 89ms/step - loss: 5.6389 - root_mean_squared_error: 2.2838 - mae: 1.7560\n",
            "Epoch 27/200\n",
            "30/30 [==============================] - 3s 88ms/step - loss: 5.2685 - root_mean_squared_error: 2.2044 - mae: 1.6622\n",
            "Epoch 28/200\n",
            "30/30 [==============================] - 3s 88ms/step - loss: 5.1306 - root_mean_squared_error: 2.1765 - mae: 1.6327\n",
            "Epoch 29/200\n",
            "30/30 [==============================] - 3s 88ms/step - loss: 5.7532 - root_mean_squared_error: 2.3195 - mae: 1.7733\n",
            "Epoch 30/200\n",
            "30/30 [==============================] - 3s 88ms/step - loss: 6.1281 - root_mean_squared_error: 2.4004 - mae: 1.8550\n",
            "Epoch 31/200\n",
            "30/30 [==============================] - 3s 89ms/step - loss: 5.3400 - root_mean_squared_error: 2.2299 - mae: 1.7282\n",
            "Epoch 32/200\n",
            "30/30 [==============================] - 3s 88ms/step - loss: 4.9307 - root_mean_squared_error: 2.1389 - mae: 1.6154\n",
            "Epoch 33/200\n",
            "30/30 [==============================] - 3s 88ms/step - loss: 4.6845 - root_mean_squared_error: 2.0843 - mae: 1.5975\n",
            "Epoch 34/200\n",
            "30/30 [==============================] - 3s 88ms/step - loss: 4.9567 - root_mean_squared_error: 2.1511 - mae: 1.6595\n",
            "Epoch 35/200\n",
            "30/30 [==============================] - 3s 88ms/step - loss: 4.7713 - root_mean_squared_error: 2.1096 - mae: 1.6169\n",
            "Epoch 36/200\n",
            "30/30 [==============================] - 3s 88ms/step - loss: 5.1032 - root_mean_squared_error: 2.1891 - mae: 1.6722\n",
            "Epoch 37/200\n",
            "30/30 [==============================] - 3s 88ms/step - loss: 4.6498 - root_mean_squared_error: 2.0836 - mae: 1.6187\n",
            "Epoch 38/200\n",
            "30/30 [==============================] - 3s 88ms/step - loss: 4.5762 - root_mean_squared_error: 2.0684 - mae: 1.5934\n",
            "Epoch 39/200\n",
            "30/30 [==============================] - 3s 88ms/step - loss: 5.3714 - root_mean_squared_error: 2.2534 - mae: 1.7465\n",
            "Epoch 40/200\n",
            "30/30 [==============================] - 3s 89ms/step - loss: 4.6306 - root_mean_squared_error: 2.0824 - mae: 1.6159\n",
            "Epoch 41/200\n",
            "30/30 [==============================] - 3s 88ms/step - loss: 4.5381 - root_mean_squared_error: 2.0620 - mae: 1.6022\n",
            "Epoch 42/200\n",
            "30/30 [==============================] - 3s 88ms/step - loss: 4.2270 - root_mean_squared_error: 1.9866 - mae: 1.5241\n",
            "Epoch 43/200\n",
            "30/30 [==============================] - 3s 87ms/step - loss: 4.5430 - root_mean_squared_error: 2.0658 - mae: 1.5982\n",
            "Epoch 44/200\n",
            "30/30 [==============================] - 3s 88ms/step - loss: 3.9570 - root_mean_squared_error: 1.9200 - mae: 1.4680\n",
            "Epoch 45/200\n",
            "30/30 [==============================] - 3s 89ms/step - loss: 4.2148 - root_mean_squared_error: 1.9868 - mae: 1.5423\n",
            "Epoch 46/200\n",
            "30/30 [==============================] - 3s 88ms/step - loss: 4.3969 - root_mean_squared_error: 2.0356 - mae: 1.5427\n",
            "Epoch 47/200\n",
            "30/30 [==============================] - 3s 89ms/step - loss: 4.1791 - root_mean_squared_error: 1.9818 - mae: 1.5232\n",
            "Epoch 48/200\n",
            "30/30 [==============================] - 3s 88ms/step - loss: 3.9652 - root_mean_squared_error: 1.9283 - mae: 1.4699\n",
            "Epoch 49/200\n",
            "30/30 [==============================] - 3s 88ms/step - loss: 4.4380 - root_mean_squared_error: 2.0479 - mae: 1.5535\n",
            "Epoch 50/200\n",
            "30/30 [==============================] - 3s 96ms/step - loss: 4.2254 - root_mean_squared_error: 1.9972 - mae: 1.5043\n",
            "Epoch 51/200\n",
            "30/30 [==============================] - 3s 98ms/step - loss: 4.0754 - root_mean_squared_error: 1.9603 - mae: 1.5093\n",
            "Epoch 52/200\n",
            "30/30 [==============================] - 3s 98ms/step - loss: 4.2320 - root_mean_squared_error: 2.0000 - mae: 1.5586\n",
            "Epoch 53/200\n",
            "30/30 [==============================] - 3s 96ms/step - loss: 4.4501 - root_mean_squared_error: 2.0557 - mae: 1.5591\n",
            "Epoch 54/200\n",
            "30/30 [==============================] - 3s 88ms/step - loss: 4.0523 - root_mean_squared_error: 1.9562 - mae: 1.4767\n",
            "Epoch 55/200\n",
            "30/30 [==============================] - 3s 88ms/step - loss: 4.2028 - root_mean_squared_error: 1.9954 - mae: 1.5491\n",
            "Epoch 56/200\n",
            "30/30 [==============================] - 3s 88ms/step - loss: 4.2238 - root_mean_squared_error: 2.0011 - mae: 1.5094\n",
            "Epoch 57/200\n",
            "30/30 [==============================] - 3s 88ms/step - loss: 4.3062 - root_mean_squared_error: 2.0222 - mae: 1.5478\n",
            "Epoch 58/200\n",
            "30/30 [==============================] - 3s 88ms/step - loss: 4.3012 - root_mean_squared_error: 2.0221 - mae: 1.5555\n",
            "Epoch 59/200\n",
            "30/30 [==============================] - 3s 88ms/step - loss: 4.2663 - root_mean_squared_error: 2.0134 - mae: 1.5405\n"
          ]
        }
      ],
      "source": [
        "from tensorflow.keras.callbacks import EarlyStopping\n",
        "\n",
        "early_stopping = EarlyStopping(monitor='loss',patience=15)\n",
        "\n",
        "epochs = 200\n",
        "batch_size = 32\n",
        "\n",
        "history = model.fit(train_data, epochs=epochs, batch_size=batch_size, callbacks = early_stopping)"
      ]
    },
    {
      "cell_type": "code",
      "execution_count": 15,
      "id": "52cfed1b",
      "metadata": {
        "ExecuteTime": {
          "end_time": "2022-03-30T01:33:11.000073Z",
          "start_time": "2022-03-30T01:33:09.131193Z"
        },
        "id": "52cfed1b",
        "colab": {
          "base_uri": "https://localhost:8080/"
        },
        "outputId": "3f93b688-39e1-46c1-eccb-63d155b3123b"
      },
      "outputs": [
        {
          "output_type": "execute_result",
          "data": {
            "text/plain": [
              "(192, 1)"
            ]
          },
          "metadata": {},
          "execution_count": 15
        }
      ],
      "source": [
        "pred = model.predict(test_data)\n",
        "pred.shape"
      ]
    },
    {
      "cell_type": "code",
      "execution_count": 16,
      "id": "2f495fcd",
      "metadata": {
        "ExecuteTime": {
          "end_time": "2022-03-30T01:33:13.651427Z",
          "start_time": "2022-03-30T01:33:11.001037Z"
        },
        "id": "2f495fcd",
        "colab": {
          "base_uri": "https://localhost:8080/"
        },
        "outputId": "6628eea3-7415-4bea-df8f-b67c0fb183a7"
      },
      "outputs": [
        {
          "output_type": "stream",
          "name": "stdout",
          "text": [
            "30/30 [==============================] - 3s 38ms/step - loss: 2.5219 - root_mean_squared_error: 1.5195 - mae: 1.1119\n",
            "6/6 [==============================] - 0s 50ms/step - loss: 4.5757 - root_mean_squared_error: 2.0887 - mae: 1.7480\n",
            "[2.521904945373535, 1.519541621208191, 1.1119120121002197]\n",
            "[4.575689792633057, 2.0887296199798584, 1.7480400800704956]\n"
          ]
        }
      ],
      "source": [
        "# 모델 평가\n",
        "\n",
        "train_metrics = model.evaluate(train_data)\n",
        "test_metrics = model.evaluate(test_data)\n",
        "\n",
        "print(train_metrics)\n",
        "print(test_metrics) "
      ]
    },
    {
      "cell_type": "code",
      "execution_count": 17,
      "id": "f8ce3371",
      "metadata": {
        "ExecuteTime": {
          "end_time": "2022-03-30T01:33:13.856433Z",
          "start_time": "2022-03-30T01:33:13.653422Z"
        },
        "id": "f8ce3371",
        "colab": {
          "base_uri": "https://localhost:8080/",
          "height": 537
        },
        "outputId": "6a91c2f0-7022-4565-9638-f244a78d5e30"
      },
      "outputs": [
        {
          "output_type": "display_data",
          "data": {
            "text/plain": [
              "<Figure size 864x648 with 1 Axes>"
            ],
            "image/png": "[encoded data removed]"
          },
          "metadata": {
            "needs_background": "light"
          }
        }
      ],
      "source": [
        "plt.figure(figsize=(12, 9))\n",
        "plt.plot(np.asarray(y_test)[50:], label='actual')\n",
        "plt.plot(pred, label='prediction')\n",
        "plt.legend()\n",
        "plt.show()"
      ]
    },
    {
      "cell_type": "code",
      "execution_count": 18,
      "id": "17d10604",
      "metadata": {
        "ExecuteTime": {
          "end_time": "2022-03-30T01:33:13.888350Z",
          "start_time": "2022-03-30T01:33:13.857399Z"
        },
        "id": "17d10604",
        "colab": {
          "base_uri": "https://localhost:8080/",
          "height": 143
        },
        "outputId": "77c11d3d-0c41-41b1-9d82-d9e624c9c3a4"
      },
      "outputs": [
        {
          "output_type": "execute_result",
          "data": {
            "text/plain": [
              "                real  prediction    real+1\n",
              "real        1.000000    0.849925  0.999589\n",
              "prediction  0.849925    1.000000  0.845051\n",
              "real+1      0.999589    0.845051  1.000000"
            ],
            "text/html": [
              "\n",
              "  <div id=\"df-bc0352bd-827a-49f6-a85a-42aecf90d81d\">\n",
              "    <div class=\"colab-df-container\">\n",
              "      <div>\n",
              "<style scoped>\n",
              "    .dataframe tbody tr th:only-of-type {\n",
              "        vertical-align: middle;\n",
              "    }\n",
              "\n",
              "    .dataframe tbody tr th {\n",
              "        vertical-align: top;\n",
              "    }\n",
              "\n",
              "    .dataframe thead th {\n",
              "        text-align: right;\n",
              "    }\n",
              "</style>\n",
              "<table border=\"1\" class=\"dataframe\">\n",
              "  <thead>\n",
              "    <tr style=\"text-align: right;\">\n",
              "      <th></th>\n",
              "      <th>real</th>\n",
              "      <th>prediction</th>\n",
              "      <th>real+1</th>\n",
              "    </tr>\n",
              "  </thead>\n",
              "  <tbody>\n",
              "    <tr>\n",
              "      <th>real</th>\n",
              "      <td>1.000000</td>\n",
              "      <td>0.849925</td>\n",
              "      <td>0.999589</td>\n",
              "    </tr>\n",
              "    <tr>\n",
              "      <th>prediction</th>\n",
              "      <td>0.849925</td>\n",
              "      <td>1.000000</td>\n",
              "      <td>0.845051</td>\n",
              "    </tr>\n",
              "    <tr>\n",
              "      <th>real+1</th>\n",
              "      <td>0.999589</td>\n",
              "      <td>0.845051</td>\n",
              "      <td>1.000000</td>\n",
              "    </tr>\n",
              "  </tbody>\n",
              "</table>\n",
              "</div>\n",
              "      <button class=\"colab-df-convert\" onclick=\"convertToInteractive('df-bc0352bd-827a-49f6-a85a-42aecf90d81d')\"\n",
              "              title=\"Convert this dataframe to an interactive table.\"\n",
              "              style=\"display:none;\">\n",
              "        \n",
              "  <svg xmlns=\"http://www.w3.org/2000/svg\" height=\"24px\"viewBox=\"0 0 24 24\"\n",
              "       width=\"24px\">\n",
              "    <path d=\"M0 0h24v24H0V0z\" fill=\"none\"/>\n",
              "    <path d=\"M18.56 5.44l.94 2.06.94-2.06 2.06-.94-2.06-.94-.94-2.06-.94 2.06-2.06.94zm-11 1L8.5 8.5l.94-2.06 2.06-.94-2.06-.94L8.5 2.5l-.94 2.06-2.06.94zm10 10l.94 2.06.94-2.06 2.06-.94-2.06-.94-.94-2.06-.94 2.06-2.06.94z\"/><path d=\"M17.41 7.96l-1.37-1.37c-.4-.4-.92-.59-1.43-.59-.52 0-1.04.2-1.43.59L10.3 9.45l-7.72 7.72c-.78.78-.78 2.05 0 2.83L4 21.41c.39.39.9.59 1.41.59.51 0 1.02-.2 1.41-.59l7.78-7.78 2.81-2.81c.8-.78.8-2.07 0-2.86zM5.41 20L4 18.59l7.72-7.72 1.47 1.35L5.41 20z\"/>\n",
              "  </svg>\n",
              "      </button>\n",
              "      \n",
              "  <style>\n",
              "    .colab-df-container {\n",
              "      display:flex;\n",
              "      flex-wrap:wrap;\n",
              "      gap: 12px;\n",
              "    }\n",
              "\n",
              "    .colab-df-convert {\n",
              "      background-color: #E8F0FE;\n",
              "      border: none;\n",
              "      border-radius: 50%;\n",
              "      cursor: pointer;\n",
              "      display: none;\n",
              "      fill: #1967D2;\n",
              "      height: 32px;\n",
              "      padding: 0 0 0 0;\n",
              "      width: 32px;\n",
              "    }\n",
              "\n",
              "    .colab-df-convert:hover {\n",
              "      background-color: #E2EBFA;\n",
              "      box-shadow: 0px 1px 2px rgba(60, 64, 67, 0.3), 0px 1px 3px 1px rgba(60, 64, 67, 0.15);\n",
              "      fill: #174EA6;\n",
              "    }\n",
              "\n",
              "    [theme=dark] .colab-df-convert {\n",
              "      background-color: #3B4455;\n",
              "      fill: #D2E3FC;\n",
              "    }\n",
              "\n",
              "    [theme=dark] .colab-df-convert:hover {\n",
              "      background-color: #434B5C;\n",
              "      box-shadow: 0px 1px 3px 1px rgba(0, 0, 0, 0.15);\n",
              "      filter: drop-shadow(0px 1px 2px rgba(0, 0, 0, 0.3));\n",
              "      fill: #FFFFFF;\n",
              "    }\n",
              "  </style>\n",
              "\n",
              "      <script>\n",
              "        const buttonEl =\n",
              "          document.querySelector('#df-bc0352bd-827a-49f6-a85a-42aecf90d81d button.colab-df-convert');\n",
              "        buttonEl.style.display =\n",
              "          google.colab.kernel.accessAllowed ? 'block' : 'none';\n",
              "\n",
              "        async function convertToInteractive(key) {\n",
              "          const element = document.querySelector('#df-bc0352bd-827a-49f6-a85a-42aecf90d81d');\n",
              "          const dataTable =\n",
              "            await google.colab.kernel.invokeFunction('convertToInteractive',\n",
              "                                                     [key], {});\n",
              "          if (!dataTable) return;\n",
              "\n",
              "          const docLinkHtml = 'Like what you see? Visit the ' +\n",
              "            '<a target=\"_blank\" href=https://colab.research.google.com/notebooks/data_table.ipynb>data table notebook</a>'\n",
              "            + ' to learn more about interactive tables.';\n",
              "          element.innerHTML = '';\n",
              "          dataTable['output_type'] = 'display_data';\n",
              "          await google.colab.output.renderOutput(dataTable, element);\n",
              "          const docLink = document.createElement('div');\n",
              "          docLink.innerHTML = docLinkHtml;\n",
              "          element.appendChild(docLink);\n",
              "        }\n",
              "      </script>\n",
              "    </div>\n",
              "  </div>\n",
              "  "
            ]
          },
          "metadata": {},
          "execution_count": 18
        }
      ],
      "source": [
        "unscaled_y = data.iloc[-192:, -2]\n",
        "y_predicted = model.predict(test_data)\n",
        "\n",
        "col_name = ['real', 'prediction']\n",
        "# real = plt.plot(np.asarray(y_test)[20:], label='actual')\n",
        "\n",
        "real = pd.DataFrame(unscaled_y)\n",
        "real = real.reset_index().iloc[:,1]\n",
        "prediction = pd.DataFrame(y_predicted)\n",
        "\n",
        "foo = pd.concat([real, prediction], axis = 1)\n",
        "foo.columns = col_name\n",
        "foo['real+1'] = foo['real'].shift(periods = 1)\n",
        "foo.corr()"
      ]
    },
    {
      "cell_type": "markdown",
      "source": [
        ""
      ],
      "metadata": {
        "id": "Rn67Zg7OnlKY"
      },
      "id": "Rn67Zg7OnlKY"
    },
    {
      "cell_type": "code",
      "execution_count": 19,
      "id": "5ab34394",
      "metadata": {
        "id": "5ab34394",
        "colab": {
          "base_uri": "https://localhost:8080/"
        },
        "outputId": "afc34fc2-d4ce-4ebb-cbf9-1a942c9cf64b"
      },
      "outputs": [
        {
          "output_type": "stream",
          "name": "stdout",
          "text": [
            "train: LOSS, RMSE, MAE [2.521904945373535, 1.519541621208191, 1.1119120121002197]\n",
            "test: LOSS, RMSE, MAE [4.575689792633057, 2.0887296199798584, 1.7480400800704956]\n",
            "\n",
            "                real  prediction    real+1\n",
            "real        1.000000    0.849925  0.999589\n",
            "prediction  0.849925    1.000000  0.845051\n",
            "real+1      0.999589    0.845051  1.000000\n"
          ]
        }
      ],
      "source": [
        "print('train: LOSS, RMSE, MAE', train_metrics)\n",
        "print('test: LOSS, RMSE, MAE', test_metrics) \n",
        "print()\n",
        "print(foo.corr())"
      ]
    }
  ],
  "metadata": {
    "kernelspec": {
      "display_name": "Python 3 (ipykernel)",
      "language": "python",
      "name": "python3"
    },
    "language_info": {
      "codemirror_mode": {
        "name": "ipython",
        "version": 3
      },
      "file_extension": ".py",
      "mimetype": "text/x-python",
      "name": "python",
      "nbconvert_exporter": "python",
      "pygments_lexer": "ipython3",
      "version": "3.9.7"
    },
    "toc": {
      "base_numbering": 1,
      "nav_menu": {},
      "number_sections": true,
      "sideBar": true,
      "skip_h1_title": false,
      "title_cell": "Table of Contents",
      "title_sidebar": "Contents",
      "toc_cell": false,
      "toc_position": {},
      "toc_section_display": true,
      "toc_window_display": false
    },
    "colab": {
      "name": "LSTM_변수17_WIN50_PA15_EP200_L2_v0_0_2 .ipynb",
      "provenance": [],
      "collapsed_sections": []
    },
    "accelerator": "GPU"
  },
  "nbformat": 4,
  "nbformat_minor": 5
}